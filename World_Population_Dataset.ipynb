{
 "cells": [
  {
   "cell_type": "code",
   "execution_count": 75,
   "id": "3bbad46a",
   "metadata": {},
   "outputs": [],
   "source": [
    "#importing all the necessary libraries\n",
    "import pandas as pd\n",
    "import numpy as np\n",
    "\n",
    "#importing for the visualisation\n",
    "import seaborn as sns\n",
    "import matplotlib.pyplot as plt\n",
    "\n",
    "#importing for the model training\n",
    "from  sklearn.preprocessing import OneHotEncoder,OrdinalEncoder,LabelEncoder\n",
    "from sklearn.preprocessing import MinMaxScaler,StandardScaler\n",
    "from sklearn.model_selection import train_test_split\n",
    "from sklearn.tree import DecisionTreeRegressor\n",
    "from sklearn.linear_model import LinearRegression\n",
    "from sklearn.neighbors import KNeighborsRegressor\n",
    "from sklearn.ensemble import RandomForestRegressor,AdaBoostRegressor\n",
    "from xgboost import XGBRegressor\n",
    "\n",
    "#for hyperparameter tuning\n",
    "from sklearn.model_selection import GridSearchCV,RandomizedSearchCV\n",
    "\n",
    "#for Nan values handling\n",
    "from sklearn.impute import KNNImputer\n",
    "\n",
    "# for model evaluation\n",
    "from sklearn.metrics import mean_absolute_error,mean_squared_error,r2_score,accuracy_score\n",
    "\n",
    "#to remove warnings\n",
    "import warnings\n",
    "warnings.filterwarnings(\"ignore\")\n",
    "\n",
    "import pickle\n",
    "import json"
   ]
  },
  {
   "cell_type": "markdown",
   "id": "be29df96",
   "metadata": {},
   "source": [
    "## Problem Statment"
   ]
  },
  {
   "cell_type": "raw",
   "id": "86e3c850",
   "metadata": {},
   "source": [
    "Prediction of population"
   ]
  },
  {
   "cell_type": "markdown",
   "id": "941f46eb",
   "metadata": {},
   "source": [
    "## Data Gathering "
   ]
  },
  {
   "cell_type": "code",
   "execution_count": 5,
   "id": "6b56a21d",
   "metadata": {},
   "outputs": [
    {
     "data": {
      "text/html": [
       "<div>\n",
       "<style scoped>\n",
       "    .dataframe tbody tr th:only-of-type {\n",
       "        vertical-align: middle;\n",
       "    }\n",
       "\n",
       "    .dataframe tbody tr th {\n",
       "        vertical-align: top;\n",
       "    }\n",
       "\n",
       "    .dataframe thead th {\n",
       "        text-align: right;\n",
       "    }\n",
       "</style>\n",
       "<table border=\"1\" class=\"dataframe\">\n",
       "  <thead>\n",
       "    <tr style=\"text-align: right;\">\n",
       "      <th></th>\n",
       "      <th>#</th>\n",
       "      <th>Country (or dependency)</th>\n",
       "      <th>Population (2022)</th>\n",
       "      <th>Yearly change</th>\n",
       "      <th>Net change</th>\n",
       "      <th>Density (P/Km²)</th>\n",
       "      <th>Land Area (Km²)</th>\n",
       "      <th>Migrants (net)</th>\n",
       "      <th>Fert. Rate</th>\n",
       "      <th>Med.Age</th>\n",
       "      <th>Urban Pop %</th>\n",
       "      <th>World Share</th>\n",
       "    </tr>\n",
       "  </thead>\n",
       "  <tbody>\n",
       "    <tr>\n",
       "      <th>0</th>\n",
       "      <td>1</td>\n",
       "      <td>China</td>\n",
       "      <td>1,439,323,776</td>\n",
       "      <td>0.39%</td>\n",
       "      <td>5,540,090</td>\n",
       "      <td>153</td>\n",
       "      <td>9,388,211</td>\n",
       "      <td>-348,399</td>\n",
       "      <td>1.7</td>\n",
       "      <td>38</td>\n",
       "      <td>61%</td>\n",
       "      <td>18.47%</td>\n",
       "    </tr>\n",
       "  </tbody>\n",
       "</table>\n",
       "</div>"
      ],
      "text/plain": [
       "   # Country (or dependency) Population (2022) Yearly change Net change  \\\n",
       "0  1                   China     1,439,323,776         0.39%  5,540,090   \n",
       "\n",
       "  Density (P/Km²) Land Area (Km²) Migrants (net) Fert. Rate Med.Age  \\\n",
       "0             153       9,388,211       -348,399        1.7      38   \n",
       "\n",
       "  Urban Pop % World Share  \n",
       "0         61%      18.47%  "
      ]
     },
     "execution_count": 5,
     "metadata": {},
     "output_type": "execute_result"
    }
   ],
   "source": [
    "df = pd.read_csv(\"World Population (2022) .csv\")\n",
    "df.head(1)"
   ]
  },
  {
   "cell_type": "markdown",
   "id": "0e5dd798",
   "metadata": {},
   "source": [
    "## EDA"
   ]
  },
  {
   "cell_type": "code",
   "execution_count": 6,
   "id": "6bcda268",
   "metadata": {},
   "outputs": [
    {
     "data": {
      "text/plain": [
       "(235, 12)"
      ]
     },
     "execution_count": 6,
     "metadata": {},
     "output_type": "execute_result"
    }
   ],
   "source": [
    "df.shape"
   ]
  },
  {
   "cell_type": "code",
   "execution_count": 7,
   "id": "aa336a51",
   "metadata": {},
   "outputs": [
    {
     "data": {
      "text/plain": [
       "#                           0\n",
       "Country (or dependency)     0\n",
       "Population (2022)           0\n",
       "Yearly change               0\n",
       "Net change                  0\n",
       "Density (P/Km²)             0\n",
       "Land Area (Km²)             0\n",
       "Migrants (net)             34\n",
       "Fert. Rate                  0\n",
       "Med.Age                     0\n",
       "Urban Pop %                 0\n",
       "World Share                 0\n",
       "dtype: int64"
      ]
     },
     "execution_count": 7,
     "metadata": {},
     "output_type": "execute_result"
    }
   ],
   "source": [
    "df.isna().sum()"
   ]
  },
  {
   "cell_type": "code",
   "execution_count": 8,
   "id": "c079aa91",
   "metadata": {},
   "outputs": [
    {
     "name": "stdout",
     "output_type": "stream",
     "text": [
      "<class 'pandas.core.frame.DataFrame'>\n",
      "RangeIndex: 235 entries, 0 to 234\n",
      "Data columns (total 12 columns):\n",
      " #   Column                   Non-Null Count  Dtype \n",
      "---  ------                   --------------  ----- \n",
      " 0   #                        235 non-null    int64 \n",
      " 1   Country (or dependency)  235 non-null    object\n",
      " 2   Population (2022)        235 non-null    object\n",
      " 3   Yearly change            235 non-null    object\n",
      " 4   Net change               235 non-null    object\n",
      " 5   Density (P/Km²)          235 non-null    object\n",
      " 6   Land Area (Km²)          235 non-null    object\n",
      " 7   Migrants (net)           201 non-null    object\n",
      " 8   Fert. Rate               235 non-null    object\n",
      " 9   Med.Age                  235 non-null    object\n",
      " 10  Urban Pop %              235 non-null    object\n",
      " 11  World Share              235 non-null    object\n",
      "dtypes: int64(1), object(11)\n",
      "memory usage: 22.2+ KB\n"
     ]
    }
   ],
   "source": [
    "df.info()"
   ]
  },
  {
   "cell_type": "code",
   "execution_count": 9,
   "id": "c148a947",
   "metadata": {},
   "outputs": [
    {
     "data": {
      "text/html": [
       "<div>\n",
       "<style scoped>\n",
       "    .dataframe tbody tr th:only-of-type {\n",
       "        vertical-align: middle;\n",
       "    }\n",
       "\n",
       "    .dataframe tbody tr th {\n",
       "        vertical-align: top;\n",
       "    }\n",
       "\n",
       "    .dataframe thead th {\n",
       "        text-align: right;\n",
       "    }\n",
       "</style>\n",
       "<table border=\"1\" class=\"dataframe\">\n",
       "  <thead>\n",
       "    <tr style=\"text-align: right;\">\n",
       "      <th></th>\n",
       "      <th>#</th>\n",
       "    </tr>\n",
       "  </thead>\n",
       "  <tbody>\n",
       "    <tr>\n",
       "      <th>count</th>\n",
       "      <td>235.000000</td>\n",
       "    </tr>\n",
       "    <tr>\n",
       "      <th>mean</th>\n",
       "      <td>118.000000</td>\n",
       "    </tr>\n",
       "    <tr>\n",
       "      <th>std</th>\n",
       "      <td>67.982841</td>\n",
       "    </tr>\n",
       "    <tr>\n",
       "      <th>min</th>\n",
       "      <td>1.000000</td>\n",
       "    </tr>\n",
       "    <tr>\n",
       "      <th>25%</th>\n",
       "      <td>59.500000</td>\n",
       "    </tr>\n",
       "    <tr>\n",
       "      <th>50%</th>\n",
       "      <td>118.000000</td>\n",
       "    </tr>\n",
       "    <tr>\n",
       "      <th>75%</th>\n",
       "      <td>176.500000</td>\n",
       "    </tr>\n",
       "    <tr>\n",
       "      <th>max</th>\n",
       "      <td>235.000000</td>\n",
       "    </tr>\n",
       "  </tbody>\n",
       "</table>\n",
       "</div>"
      ],
      "text/plain": [
       "                #\n",
       "count  235.000000\n",
       "mean   118.000000\n",
       "std     67.982841\n",
       "min      1.000000\n",
       "25%     59.500000\n",
       "50%    118.000000\n",
       "75%    176.500000\n",
       "max    235.000000"
      ]
     },
     "execution_count": 9,
     "metadata": {},
     "output_type": "execute_result"
    }
   ],
   "source": [
    "df.describe()"
   ]
  },
  {
   "cell_type": "markdown",
   "id": "14c25185",
   "metadata": {},
   "source": [
    "## Feature Engineering"
   ]
  },
  {
   "cell_type": "markdown",
   "id": "be75b968",
   "metadata": {},
   "source": [
    "## 1.1 Country or dependency"
   ]
  },
  {
   "cell_type": "code",
   "execution_count": 10,
   "id": "2231df19",
   "metadata": {},
   "outputs": [
    {
     "data": {
      "text/plain": [
       "0"
      ]
     },
     "execution_count": 10,
     "metadata": {},
     "output_type": "execute_result"
    }
   ],
   "source": [
    "# check missing value\n",
    "df['Country (or dependency)'].isna().sum()"
   ]
  },
  {
   "cell_type": "code",
   "execution_count": 11,
   "id": "12689178",
   "metadata": {},
   "outputs": [
    {
     "data": {
      "text/plain": [
       "China                       1\n",
       "Réunion                     1\n",
       "Guinea-Bissau               1\n",
       "Latvia                      1\n",
       "Bahrain                     1\n",
       "                           ..\n",
       "Cuba                        1\n",
       "South Sudan                 1\n",
       "Dominican Republic          1\n",
       "Czech Republic (Czechia)    1\n",
       "Holy See                    1\n",
       "Name: Country (or dependency), Length: 235, dtype: int64"
      ]
     },
     "execution_count": 11,
     "metadata": {},
     "output_type": "execute_result"
    }
   ],
   "source": [
    "# check value counts\n",
    "df['Country (or dependency)'].value_counts()"
   ]
  },
  {
   "cell_type": "code",
   "execution_count": 12,
   "id": "da5bde29",
   "metadata": {},
   "outputs": [
    {
     "data": {
      "text/html": [
       "<div>\n",
       "<style scoped>\n",
       "    .dataframe tbody tr th:only-of-type {\n",
       "        vertical-align: middle;\n",
       "    }\n",
       "\n",
       "    .dataframe tbody tr th {\n",
       "        vertical-align: top;\n",
       "    }\n",
       "\n",
       "    .dataframe thead th {\n",
       "        text-align: right;\n",
       "    }\n",
       "</style>\n",
       "<table border=\"1\" class=\"dataframe\">\n",
       "  <thead>\n",
       "    <tr style=\"text-align: right;\">\n",
       "      <th></th>\n",
       "      <th>China</th>\n",
       "      <th>India</th>\n",
       "      <th>United States</th>\n",
       "      <th>Indonesia</th>\n",
       "      <th>Pakistan</th>\n",
       "      <th>Brazil</th>\n",
       "      <th>Nigeria</th>\n",
       "      <th>Bangladesh</th>\n",
       "      <th>Russia</th>\n",
       "      <th>Mexico</th>\n",
       "      <th>...</th>\n",
       "      <th>Wallis &amp; Futuna</th>\n",
       "      <th>Nauru</th>\n",
       "      <th>Saint Barthelemy</th>\n",
       "      <th>Saint Helena</th>\n",
       "      <th>Saint Pierre &amp; Miquelon</th>\n",
       "      <th>Montserrat</th>\n",
       "      <th>Falkland Islands</th>\n",
       "      <th>Niue</th>\n",
       "      <th>Tokelau</th>\n",
       "      <th>Holy See</th>\n",
       "    </tr>\n",
       "  </thead>\n",
       "  <tbody>\n",
       "    <tr>\n",
       "      <th>0</th>\n",
       "      <td>0.0</td>\n",
       "      <td>0.0</td>\n",
       "      <td>0.0</td>\n",
       "      <td>0.0</td>\n",
       "      <td>0.0</td>\n",
       "      <td>0.0</td>\n",
       "      <td>0.0</td>\n",
       "      <td>0.0</td>\n",
       "      <td>0.0</td>\n",
       "      <td>0.0</td>\n",
       "      <td>...</td>\n",
       "      <td>0.0</td>\n",
       "      <td>0.0</td>\n",
       "      <td>0.0</td>\n",
       "      <td>0.0</td>\n",
       "      <td>0.0</td>\n",
       "      <td>0.0</td>\n",
       "      <td>0.0</td>\n",
       "      <td>0.0</td>\n",
       "      <td>0.0</td>\n",
       "      <td>0.0</td>\n",
       "    </tr>\n",
       "  </tbody>\n",
       "</table>\n",
       "<p>1 rows × 235 columns</p>\n",
       "</div>"
      ],
      "text/plain": [
       "   China  India  United States  Indonesia  Pakistan  Brazil  Nigeria  \\\n",
       "0    0.0    0.0            0.0        0.0       0.0     0.0      0.0   \n",
       "\n",
       "   Bangladesh  Russia  Mexico  ...  Wallis & Futuna  Nauru  Saint Barthelemy  \\\n",
       "0         0.0     0.0     0.0  ...              0.0    0.0               0.0   \n",
       "\n",
       "   Saint Helena  Saint Pierre & Miquelon  Montserrat  Falkland Islands  Niue  \\\n",
       "0           0.0                      0.0         0.0               0.0   0.0   \n",
       "\n",
       "   Tokelau  Holy See  \n",
       "0      0.0       0.0  \n",
       "\n",
       "[1 rows x 235 columns]"
      ]
     },
     "execution_count": 12,
     "metadata": {},
     "output_type": "execute_result"
    }
   ],
   "source": [
    "# using OneHotEncoder\n",
    "one_enc = OneHotEncoder()\n",
    "array   = one_enc.fit_transform(df[['Country (or dependency)']]).toarray()\n",
    "df1     = pd.DataFrame(array,columns=df['Country (or dependency)'].unique())\n",
    "df1.head(1)"
   ]
  },
  {
   "cell_type": "code",
   "execution_count": 13,
   "id": "bed534ab",
   "metadata": {},
   "outputs": [],
   "source": [
    "# join\n",
    "df=df.join(df1)"
   ]
  },
  {
   "cell_type": "code",
   "execution_count": 14,
   "id": "cbcebaf2",
   "metadata": {},
   "outputs": [
    {
     "data": {
      "text/html": [
       "<div>\n",
       "<style scoped>\n",
       "    .dataframe tbody tr th:only-of-type {\n",
       "        vertical-align: middle;\n",
       "    }\n",
       "\n",
       "    .dataframe tbody tr th {\n",
       "        vertical-align: top;\n",
       "    }\n",
       "\n",
       "    .dataframe thead th {\n",
       "        text-align: right;\n",
       "    }\n",
       "</style>\n",
       "<table border=\"1\" class=\"dataframe\">\n",
       "  <thead>\n",
       "    <tr style=\"text-align: right;\">\n",
       "      <th></th>\n",
       "      <th>#</th>\n",
       "      <th>Country (or dependency)</th>\n",
       "      <th>Population (2022)</th>\n",
       "      <th>Yearly change</th>\n",
       "      <th>Net change</th>\n",
       "      <th>Density (P/Km²)</th>\n",
       "      <th>Land Area (Km²)</th>\n",
       "      <th>Migrants (net)</th>\n",
       "      <th>Fert. Rate</th>\n",
       "      <th>Med.Age</th>\n",
       "      <th>...</th>\n",
       "      <th>Wallis &amp; Futuna</th>\n",
       "      <th>Nauru</th>\n",
       "      <th>Saint Barthelemy</th>\n",
       "      <th>Saint Helena</th>\n",
       "      <th>Saint Pierre &amp; Miquelon</th>\n",
       "      <th>Montserrat</th>\n",
       "      <th>Falkland Islands</th>\n",
       "      <th>Niue</th>\n",
       "      <th>Tokelau</th>\n",
       "      <th>Holy See</th>\n",
       "    </tr>\n",
       "  </thead>\n",
       "  <tbody>\n",
       "    <tr>\n",
       "      <th>0</th>\n",
       "      <td>1</td>\n",
       "      <td>China</td>\n",
       "      <td>1,439,323,776</td>\n",
       "      <td>0.39%</td>\n",
       "      <td>5,540,090</td>\n",
       "      <td>153</td>\n",
       "      <td>9,388,211</td>\n",
       "      <td>-348,399</td>\n",
       "      <td>1.7</td>\n",
       "      <td>38</td>\n",
       "      <td>...</td>\n",
       "      <td>0.0</td>\n",
       "      <td>0.0</td>\n",
       "      <td>0.0</td>\n",
       "      <td>0.0</td>\n",
       "      <td>0.0</td>\n",
       "      <td>0.0</td>\n",
       "      <td>0.0</td>\n",
       "      <td>0.0</td>\n",
       "      <td>0.0</td>\n",
       "      <td>0.0</td>\n",
       "    </tr>\n",
       "  </tbody>\n",
       "</table>\n",
       "<p>1 rows × 247 columns</p>\n",
       "</div>"
      ],
      "text/plain": [
       "   # Country (or dependency) Population (2022) Yearly change Net change  \\\n",
       "0  1                   China     1,439,323,776         0.39%  5,540,090   \n",
       "\n",
       "  Density (P/Km²) Land Area (Km²) Migrants (net) Fert. Rate Med.Age  ...  \\\n",
       "0             153       9,388,211       -348,399        1.7      38  ...   \n",
       "\n",
       "  Wallis & Futuna Nauru  Saint Barthelemy  Saint Helena  \\\n",
       "0             0.0   0.0               0.0           0.0   \n",
       "\n",
       "   Saint Pierre & Miquelon  Montserrat  Falkland Islands  Niue  Tokelau  \\\n",
       "0                      0.0         0.0               0.0   0.0      0.0   \n",
       "\n",
       "   Holy See  \n",
       "0       0.0  \n",
       "\n",
       "[1 rows x 247 columns]"
      ]
     },
     "execution_count": 14,
     "metadata": {},
     "output_type": "execute_result"
    }
   ],
   "source": [
    "df.head(1)"
   ]
  },
  {
   "cell_type": "code",
   "execution_count": 15,
   "id": "fd0334e2",
   "metadata": {},
   "outputs": [],
   "source": [
    "df.drop('Country (or dependency)',axis=1,inplace=True)"
   ]
  },
  {
   "cell_type": "markdown",
   "id": "d27e65f0",
   "metadata": {},
   "source": [
    "## 1.2 Yearly change"
   ]
  },
  {
   "cell_type": "code",
   "execution_count": 16,
   "id": "f850adf8",
   "metadata": {},
   "outputs": [
    {
     "data": {
      "text/plain": [
       "0"
      ]
     },
     "execution_count": 16,
     "metadata": {},
     "output_type": "execute_result"
    }
   ],
   "source": [
    "df['Yearly change'].isna().sum()"
   ]
  },
  {
   "cell_type": "code",
   "execution_count": 17,
   "id": "dea41c4c",
   "metadata": {},
   "outputs": [],
   "source": [
    "df['Yearly change'] =df['Yearly change'].str.replace(\"%\",\"\")"
   ]
  },
  {
   "cell_type": "code",
   "execution_count": 18,
   "id": "ade83927",
   "metadata": {},
   "outputs": [],
   "source": [
    "df['Yearly change']= df['Yearly change'].astype(float)"
   ]
  },
  {
   "cell_type": "markdown",
   "id": "7bdc3f92",
   "metadata": {},
   "source": [
    "## 1.3 Net change"
   ]
  },
  {
   "cell_type": "code",
   "execution_count": 19,
   "id": "7af677c1",
   "metadata": {},
   "outputs": [
    {
     "data": {
      "text/plain": [
       "0"
      ]
     },
     "execution_count": 19,
     "metadata": {},
     "output_type": "execute_result"
    }
   ],
   "source": [
    "df['Net change'].isna().sum()"
   ]
  },
  {
   "cell_type": "code",
   "execution_count": 20,
   "id": "bc5f8041",
   "metadata": {},
   "outputs": [],
   "source": [
    "df['Net change'] = df['Net change'].str.replace(\",\",\"\")"
   ]
  },
  {
   "cell_type": "code",
   "execution_count": 21,
   "id": "ef38953f",
   "metadata": {},
   "outputs": [],
   "source": [
    "df['Net change'] = df['Net change'].astype(float)"
   ]
  },
  {
   "cell_type": "markdown",
   "id": "d5a141b1",
   "metadata": {},
   "source": [
    "## 1.4 Density (P/Km²)"
   ]
  },
  {
   "cell_type": "code",
   "execution_count": 22,
   "id": "ecf2f91c",
   "metadata": {},
   "outputs": [
    {
     "data": {
      "text/plain": [
       "0"
      ]
     },
     "execution_count": 22,
     "metadata": {},
     "output_type": "execute_result"
    }
   ],
   "source": [
    "df['Density (P/Km²)'].isna().sum()"
   ]
  },
  {
   "cell_type": "code",
   "execution_count": 23,
   "id": "73202307",
   "metadata": {},
   "outputs": [],
   "source": [
    "df['Density (P/Km²)'] = df['Density (P/Km²)'].str.replace(\",\",\"\")"
   ]
  },
  {
   "cell_type": "code",
   "execution_count": 24,
   "id": "298a4858",
   "metadata": {},
   "outputs": [],
   "source": [
    "df['Density (P/Km²)'] = df['Density (P/Km²)'].astype(float)"
   ]
  },
  {
   "cell_type": "markdown",
   "id": "713b008b",
   "metadata": {},
   "source": [
    "## 1.5 Migrants (net)"
   ]
  },
  {
   "cell_type": "code",
   "execution_count": 25,
   "id": "37bc02cf",
   "metadata": {},
   "outputs": [
    {
     "data": {
      "text/plain": [
       "34"
      ]
     },
     "execution_count": 25,
     "metadata": {},
     "output_type": "execute_result"
    }
   ],
   "source": [
    "df['Migrants (net)'].isna().sum()"
   ]
  },
  {
   "cell_type": "code",
   "execution_count": 26,
   "id": "6067d54e",
   "metadata": {},
   "outputs": [],
   "source": [
    "df['Migrants (net)'] = df['Migrants (net)'].str.replace(\",\",\"\")"
   ]
  },
  {
   "cell_type": "code",
   "execution_count": 27,
   "id": "18c04d3e",
   "metadata": {},
   "outputs": [],
   "source": [
    "df['Migrants (net)'] = df['Migrants (net)'].astype(float)"
   ]
  },
  {
   "cell_type": "markdown",
   "id": "0230ebde",
   "metadata": {},
   "source": [
    "## 1.6 Fert. Rate"
   ]
  },
  {
   "cell_type": "code",
   "execution_count": 28,
   "id": "68d00634",
   "metadata": {},
   "outputs": [
    {
     "data": {
      "text/plain": [
       "0"
      ]
     },
     "execution_count": 28,
     "metadata": {},
     "output_type": "execute_result"
    }
   ],
   "source": [
    "df['Fert. Rate'].isna().sum()"
   ]
  },
  {
   "cell_type": "code",
   "execution_count": 29,
   "id": "66834674",
   "metadata": {},
   "outputs": [],
   "source": [
    "df['Fert. Rate'] = df['Fert. Rate'].str.replace(\"N.A.\",\"0\")"
   ]
  },
  {
   "cell_type": "code",
   "execution_count": 30,
   "id": "8ade2347",
   "metadata": {},
   "outputs": [],
   "source": [
    "df['Fert. Rate'] = df['Fert. Rate'].astype(float)"
   ]
  },
  {
   "cell_type": "markdown",
   "id": "cbc5d01f",
   "metadata": {},
   "source": [
    "## 1.6 Med.Age"
   ]
  },
  {
   "cell_type": "code",
   "execution_count": 31,
   "id": "29340320",
   "metadata": {},
   "outputs": [
    {
     "data": {
      "text/plain": [
       "0"
      ]
     },
     "execution_count": 31,
     "metadata": {},
     "output_type": "execute_result"
    }
   ],
   "source": [
    "df['Med.Age'].isna().sum()"
   ]
  },
  {
   "cell_type": "code",
   "execution_count": 32,
   "id": "584e3baf",
   "metadata": {},
   "outputs": [],
   "source": [
    "df['Med.Age'] = df['Med.Age'].str.replace(\"N.A.\",\"0\")"
   ]
  },
  {
   "cell_type": "code",
   "execution_count": 33,
   "id": "237bfd18",
   "metadata": {},
   "outputs": [],
   "source": [
    "df['Med.Age'] = df['Med.Age'].astype(float)"
   ]
  },
  {
   "cell_type": "markdown",
   "id": "23926065",
   "metadata": {},
   "source": [
    "## 1.7Urban Pop %\t"
   ]
  },
  {
   "cell_type": "code",
   "execution_count": 34,
   "id": "c97d0071",
   "metadata": {},
   "outputs": [
    {
     "data": {
      "text/plain": [
       "0"
      ]
     },
     "execution_count": 34,
     "metadata": {},
     "output_type": "execute_result"
    }
   ],
   "source": [
    "df['Urban Pop %'].isna().sum()"
   ]
  },
  {
   "cell_type": "code",
   "execution_count": 35,
   "id": "ce9bd421",
   "metadata": {},
   "outputs": [],
   "source": [
    "df['Urban Pop %'] = df['Urban Pop %'].str.replace(\"N.A.\",\"0\")"
   ]
  },
  {
   "cell_type": "code",
   "execution_count": 36,
   "id": "432d8bc6",
   "metadata": {},
   "outputs": [],
   "source": [
    "df['Urban Pop %'] = df['Urban Pop %'].str.replace(\"%\",\"\")"
   ]
  },
  {
   "cell_type": "code",
   "execution_count": 37,
   "id": "5c5bcba1",
   "metadata": {},
   "outputs": [],
   "source": [
    "df['Urban Pop %'] = df['Urban Pop %'].astype(float)"
   ]
  },
  {
   "cell_type": "markdown",
   "id": "b11de0c1",
   "metadata": {},
   "source": [
    "## 1.8 World Share"
   ]
  },
  {
   "cell_type": "code",
   "execution_count": 38,
   "id": "45a2953d",
   "metadata": {},
   "outputs": [
    {
     "data": {
      "text/plain": [
       "0"
      ]
     },
     "execution_count": 38,
     "metadata": {},
     "output_type": "execute_result"
    }
   ],
   "source": [
    "df['World Share'].isna().sum()"
   ]
  },
  {
   "cell_type": "code",
   "execution_count": 39,
   "id": "a84cd57a",
   "metadata": {},
   "outputs": [],
   "source": [
    "df['World Share'] = df['World Share'].str.replace(\"%\",\"\")"
   ]
  },
  {
   "cell_type": "code",
   "execution_count": 40,
   "id": "90808468",
   "metadata": {},
   "outputs": [],
   "source": [
    "df['World Share'] = df['World Share'].astype(float)"
   ]
  },
  {
   "cell_type": "markdown",
   "id": "b8fd68d0",
   "metadata": {},
   "source": [
    "## 1.5 Migrants (net)"
   ]
  },
  {
   "cell_type": "code",
   "execution_count": 41,
   "id": "8536224c",
   "metadata": {},
   "outputs": [],
   "source": [
    "# Density = population / Land Area\n",
    "df.drop(['#','Land Area (Km²)'],axis=1,inplace=True)"
   ]
  },
  {
   "cell_type": "code",
   "execution_count": 42,
   "id": "7b93e15f",
   "metadata": {},
   "outputs": [
    {
     "data": {
      "text/html": [
       "<div>\n",
       "<style scoped>\n",
       "    .dataframe tbody tr th:only-of-type {\n",
       "        vertical-align: middle;\n",
       "    }\n",
       "\n",
       "    .dataframe tbody tr th {\n",
       "        vertical-align: top;\n",
       "    }\n",
       "\n",
       "    .dataframe thead th {\n",
       "        text-align: right;\n",
       "    }\n",
       "</style>\n",
       "<table border=\"1\" class=\"dataframe\">\n",
       "  <thead>\n",
       "    <tr style=\"text-align: right;\">\n",
       "      <th></th>\n",
       "      <th>Population (2022)</th>\n",
       "      <th>Yearly change</th>\n",
       "      <th>Net change</th>\n",
       "      <th>Density (P/Km²)</th>\n",
       "      <th>Migrants (net)</th>\n",
       "      <th>Fert. Rate</th>\n",
       "      <th>Med.Age</th>\n",
       "      <th>Urban Pop %</th>\n",
       "      <th>World Share</th>\n",
       "      <th>China</th>\n",
       "      <th>...</th>\n",
       "      <th>Wallis &amp; Futuna</th>\n",
       "      <th>Nauru</th>\n",
       "      <th>Saint Barthelemy</th>\n",
       "      <th>Saint Helena</th>\n",
       "      <th>Saint Pierre &amp; Miquelon</th>\n",
       "      <th>Montserrat</th>\n",
       "      <th>Falkland Islands</th>\n",
       "      <th>Niue</th>\n",
       "      <th>Tokelau</th>\n",
       "      <th>Holy See</th>\n",
       "    </tr>\n",
       "  </thead>\n",
       "  <tbody>\n",
       "    <tr>\n",
       "      <th>0</th>\n",
       "      <td>1,439,323,776</td>\n",
       "      <td>0.39</td>\n",
       "      <td>5540090.0</td>\n",
       "      <td>153.0</td>\n",
       "      <td>-348399.0</td>\n",
       "      <td>1.7</td>\n",
       "      <td>38.0</td>\n",
       "      <td>61.0</td>\n",
       "      <td>18.47</td>\n",
       "      <td>0.0</td>\n",
       "      <td>...</td>\n",
       "      <td>0.0</td>\n",
       "      <td>0.0</td>\n",
       "      <td>0.0</td>\n",
       "      <td>0.0</td>\n",
       "      <td>0.0</td>\n",
       "      <td>0.0</td>\n",
       "      <td>0.0</td>\n",
       "      <td>0.0</td>\n",
       "      <td>0.0</td>\n",
       "      <td>0.0</td>\n",
       "    </tr>\n",
       "  </tbody>\n",
       "</table>\n",
       "<p>1 rows × 244 columns</p>\n",
       "</div>"
      ],
      "text/plain": [
       "  Population (2022)  Yearly change  Net change  Density (P/Km²)  \\\n",
       "0     1,439,323,776           0.39   5540090.0            153.0   \n",
       "\n",
       "   Migrants (net)  Fert. Rate  Med.Age  Urban Pop %  World Share  China  ...  \\\n",
       "0       -348399.0         1.7     38.0         61.0        18.47    0.0  ...   \n",
       "\n",
       "   Wallis & Futuna  Nauru  Saint Barthelemy  Saint Helena  \\\n",
       "0              0.0    0.0               0.0           0.0   \n",
       "\n",
       "   Saint Pierre & Miquelon  Montserrat  Falkland Islands  Niue  Tokelau  \\\n",
       "0                      0.0         0.0               0.0   0.0      0.0   \n",
       "\n",
       "   Holy See  \n",
       "0       0.0  \n",
       "\n",
       "[1 rows x 244 columns]"
      ]
     },
     "execution_count": 42,
     "metadata": {},
     "output_type": "execute_result"
    }
   ],
   "source": [
    "df.head(1)"
   ]
  },
  {
   "cell_type": "markdown",
   "id": "0689cbfa",
   "metadata": {},
   "source": [
    "## 1.8 Population (2022)"
   ]
  },
  {
   "cell_type": "code",
   "execution_count": 43,
   "id": "048bee1e",
   "metadata": {},
   "outputs": [
    {
     "data": {
      "text/plain": [
       "0"
      ]
     },
     "execution_count": 43,
     "metadata": {},
     "output_type": "execute_result"
    }
   ],
   "source": [
    "df['Population (2022)'].isna().sum()"
   ]
  },
  {
   "cell_type": "code",
   "execution_count": 44,
   "id": "20f47dae",
   "metadata": {},
   "outputs": [],
   "source": [
    "df['Population (2022)'] = df['Population (2022)'].str.replace(\",\",\"\")"
   ]
  },
  {
   "cell_type": "code",
   "execution_count": 45,
   "id": "c9062237",
   "metadata": {},
   "outputs": [],
   "source": [
    "df['Population (2022)'] = df['Population (2022)'].astype(float)"
   ]
  },
  {
   "cell_type": "code",
   "execution_count": 46,
   "id": "2723d39a",
   "metadata": {},
   "outputs": [],
   "source": [
    "df1 = df.copy()"
   ]
  },
  {
   "cell_type": "code",
   "execution_count": 47,
   "id": "be1ad0d7",
   "metadata": {},
   "outputs": [],
   "source": [
    "#Handling nan values\n",
    "knn_imp = KNNImputer()\n",
    "array = knn_imp.fit_transform(df1)\n",
    "new_df = pd.DataFrame(array,columns=df1.columns)"
   ]
  },
  {
   "cell_type": "code",
   "execution_count": 48,
   "id": "f5c8dc33",
   "metadata": {},
   "outputs": [
    {
     "data": {
      "text/plain": [
       "Population (2022)    0\n",
       "Yearly change        0\n",
       "Net change           0\n",
       "Density (P/Km²)      0\n",
       "Migrants (net)       0\n",
       "                    ..\n",
       "Montserrat           0\n",
       "Falkland Islands     0\n",
       "Niue                 0\n",
       "Tokelau              0\n",
       "Holy See             0\n",
       "Length: 244, dtype: int64"
      ]
     },
     "execution_count": 48,
     "metadata": {},
     "output_type": "execute_result"
    }
   ],
   "source": [
    "new_df.isna().sum()"
   ]
  },
  {
   "cell_type": "markdown",
   "id": "106fc562",
   "metadata": {},
   "source": [
    "## DT - Model Training"
   ]
  },
  {
   "cell_type": "code",
   "execution_count": 49,
   "id": "c938ac0d",
   "metadata": {},
   "outputs": [],
   "source": [
    "x = new_df.drop('Population (2022)',axis=1)\n",
    "y = new_df['Population (2022)']"
   ]
  },
  {
   "cell_type": "code",
   "execution_count": 50,
   "id": "91116db0",
   "metadata": {},
   "outputs": [],
   "source": [
    "x_train,x_test,y_train,y_test = train_test_split(x,y,train_size=0.8,random_state=42)"
   ]
  },
  {
   "cell_type": "code",
   "execution_count": 51,
   "id": "dd7d9fd4",
   "metadata": {},
   "outputs": [],
   "source": [
    "DT = DecisionTreeRegressor()"
   ]
  },
  {
   "cell_type": "code",
   "execution_count": 52,
   "id": "cbd6d29a",
   "metadata": {},
   "outputs": [
    {
     "data": {
      "text/html": [
       "<style>#sk-container-id-1 {color: black;background-color: white;}#sk-container-id-1 pre{padding: 0;}#sk-container-id-1 div.sk-toggleable {background-color: white;}#sk-container-id-1 label.sk-toggleable__label {cursor: pointer;display: block;width: 100%;margin-bottom: 0;padding: 0.3em;box-sizing: border-box;text-align: center;}#sk-container-id-1 label.sk-toggleable__label-arrow:before {content: \"▸\";float: left;margin-right: 0.25em;color: #696969;}#sk-container-id-1 label.sk-toggleable__label-arrow:hover:before {color: black;}#sk-container-id-1 div.sk-estimator:hover label.sk-toggleable__label-arrow:before {color: black;}#sk-container-id-1 div.sk-toggleable__content {max-height: 0;max-width: 0;overflow: hidden;text-align: left;background-color: #f0f8ff;}#sk-container-id-1 div.sk-toggleable__content pre {margin: 0.2em;color: black;border-radius: 0.25em;background-color: #f0f8ff;}#sk-container-id-1 input.sk-toggleable__control:checked~div.sk-toggleable__content {max-height: 200px;max-width: 100%;overflow: auto;}#sk-container-id-1 input.sk-toggleable__control:checked~label.sk-toggleable__label-arrow:before {content: \"▾\";}#sk-container-id-1 div.sk-estimator input.sk-toggleable__control:checked~label.sk-toggleable__label {background-color: #d4ebff;}#sk-container-id-1 div.sk-label input.sk-toggleable__control:checked~label.sk-toggleable__label {background-color: #d4ebff;}#sk-container-id-1 input.sk-hidden--visually {border: 0;clip: rect(1px 1px 1px 1px);clip: rect(1px, 1px, 1px, 1px);height: 1px;margin: -1px;overflow: hidden;padding: 0;position: absolute;width: 1px;}#sk-container-id-1 div.sk-estimator {font-family: monospace;background-color: #f0f8ff;border: 1px dotted black;border-radius: 0.25em;box-sizing: border-box;margin-bottom: 0.5em;}#sk-container-id-1 div.sk-estimator:hover {background-color: #d4ebff;}#sk-container-id-1 div.sk-parallel-item::after {content: \"\";width: 100%;border-bottom: 1px solid gray;flex-grow: 1;}#sk-container-id-1 div.sk-label:hover label.sk-toggleable__label {background-color: #d4ebff;}#sk-container-id-1 div.sk-serial::before {content: \"\";position: absolute;border-left: 1px solid gray;box-sizing: border-box;top: 0;bottom: 0;left: 50%;z-index: 0;}#sk-container-id-1 div.sk-serial {display: flex;flex-direction: column;align-items: center;background-color: white;padding-right: 0.2em;padding-left: 0.2em;position: relative;}#sk-container-id-1 div.sk-item {position: relative;z-index: 1;}#sk-container-id-1 div.sk-parallel {display: flex;align-items: stretch;justify-content: center;background-color: white;position: relative;}#sk-container-id-1 div.sk-item::before, #sk-container-id-1 div.sk-parallel-item::before {content: \"\";position: absolute;border-left: 1px solid gray;box-sizing: border-box;top: 0;bottom: 0;left: 50%;z-index: -1;}#sk-container-id-1 div.sk-parallel-item {display: flex;flex-direction: column;z-index: 1;position: relative;background-color: white;}#sk-container-id-1 div.sk-parallel-item:first-child::after {align-self: flex-end;width: 50%;}#sk-container-id-1 div.sk-parallel-item:last-child::after {align-self: flex-start;width: 50%;}#sk-container-id-1 div.sk-parallel-item:only-child::after {width: 0;}#sk-container-id-1 div.sk-dashed-wrapped {border: 1px dashed gray;margin: 0 0.4em 0.5em 0.4em;box-sizing: border-box;padding-bottom: 0.4em;background-color: white;}#sk-container-id-1 div.sk-label label {font-family: monospace;font-weight: bold;display: inline-block;line-height: 1.2em;}#sk-container-id-1 div.sk-label-container {text-align: center;}#sk-container-id-1 div.sk-container {/* jupyter's `normalize.less` sets `[hidden] { display: none; }` but bootstrap.min.css set `[hidden] { display: none !important; }` so we also need the `!important` here to be able to override the default hidden behavior on the sphinx rendered scikit-learn.org. See: https://github.com/scikit-learn/scikit-learn/issues/21755 */display: inline-block !important;position: relative;}#sk-container-id-1 div.sk-text-repr-fallback {display: none;}</style><div id=\"sk-container-id-1\" class=\"sk-top-container\"><div class=\"sk-text-repr-fallback\"><pre>DecisionTreeRegressor()</pre><b>In a Jupyter environment, please rerun this cell to show the HTML representation or trust the notebook. <br />On GitHub, the HTML representation is unable to render, please try loading this page with nbviewer.org.</b></div><div class=\"sk-container\" hidden><div class=\"sk-item\"><div class=\"sk-estimator sk-toggleable\"><input class=\"sk-toggleable__control sk-hidden--visually\" id=\"sk-estimator-id-1\" type=\"checkbox\" checked><label for=\"sk-estimator-id-1\" class=\"sk-toggleable__label sk-toggleable__label-arrow\">DecisionTreeRegressor</label><div class=\"sk-toggleable__content\"><pre>DecisionTreeRegressor()</pre></div></div></div></div></div>"
      ],
      "text/plain": [
       "DecisionTreeRegressor()"
      ]
     },
     "execution_count": 52,
     "metadata": {},
     "output_type": "execute_result"
    }
   ],
   "source": [
    "DT.fit(x_train,y_train)"
   ]
  },
  {
   "cell_type": "markdown",
   "id": "3275c1e6",
   "metadata": {},
   "source": [
    "## Model Evaluation"
   ]
  },
  {
   "cell_type": "code",
   "execution_count": 53,
   "id": "60ff9385",
   "metadata": {},
   "outputs": [
    {
     "name": "stdout",
     "output_type": "stream",
     "text": [
      "***********Traning********\n",
      "mse=0.0\n",
      "mae=0.0\n",
      "R2_score=1.0\n",
      "\n",
      "***********Testing********\n",
      "\n",
      "mse=17758521152726.81\n",
      "mae=1513353.4042553192\n",
      "R2_score=0.9840949796286287\n"
     ]
    }
   ],
   "source": [
    "# train\n",
    "print(\"***********Traning********\")\n",
    "y_pred_train  = DT.predict(x_train)\n",
    "mse   = mean_squared_error(y_train,y_pred_train)\n",
    "mae  = mean_absolute_error(y_train,y_pred_train)\n",
    "R2_score = r2_score(y_train,y_pred_train)\n",
    "print(f\"{mse=}\\n{mae=}\\n{R2_score=}\")\n",
    "\n",
    "print()\n",
    "print(\"***********Testing********\")\n",
    "print()\n",
    "\n",
    "y_pred_test  = DT.predict(x_test)\n",
    "mse   = mean_squared_error(y_test,y_pred_test)\n",
    "mae  = mean_absolute_error(y_test,y_pred_test)\n",
    "R2_score = r2_score(y_test,y_pred_test)\n",
    "print(f\"{mse=}\\n{mae=}\\n{R2_score=}\")\n"
   ]
  },
  {
   "cell_type": "code",
   "execution_count": 54,
   "id": "5e6b27db",
   "metadata": {},
   "outputs": [
    {
     "data": {
      "text/plain": [
       "0.9840949796286287"
      ]
     },
     "execution_count": 54,
     "metadata": {},
     "output_type": "execute_result"
    }
   ],
   "source": [
    "DT.score(x_test,y_test)"
   ]
  },
  {
   "cell_type": "markdown",
   "id": "d79098f4",
   "metadata": {},
   "source": [
    "## Hyper parameter tuninig"
   ]
  },
  {
   "cell_type": "code",
   "execution_count": 55,
   "id": "d5ab97d6",
   "metadata": {},
   "outputs": [],
   "source": [
    "DT = DecisionTreeRegressor()\n",
    "hyperpara= {\n",
    "                \"criterion\":['squared_error',\"absolute error\"],\n",
    "                \"max_depth\":np.arange(2,10),\n",
    "                \"min_samples_split\":np.arange(2,5),\n",
    "                \"min_samples_leaf\":(1,2),\n",
    "                \"random_state\":np.arange(39,45)\n",
    "            }"
   ]
  },
  {
   "cell_type": "code",
   "execution_count": 56,
   "id": "eddf3ef7",
   "metadata": {},
   "outputs": [],
   "source": [
    "gscv=GridSearchCV(DT,hyperpara)"
   ]
  },
  {
   "cell_type": "code",
   "execution_count": 57,
   "id": "79b62004",
   "metadata": {},
   "outputs": [
    {
     "data": {
      "text/html": [
       "<style>#sk-container-id-2 {color: black;background-color: white;}#sk-container-id-2 pre{padding: 0;}#sk-container-id-2 div.sk-toggleable {background-color: white;}#sk-container-id-2 label.sk-toggleable__label {cursor: pointer;display: block;width: 100%;margin-bottom: 0;padding: 0.3em;box-sizing: border-box;text-align: center;}#sk-container-id-2 label.sk-toggleable__label-arrow:before {content: \"▸\";float: left;margin-right: 0.25em;color: #696969;}#sk-container-id-2 label.sk-toggleable__label-arrow:hover:before {color: black;}#sk-container-id-2 div.sk-estimator:hover label.sk-toggleable__label-arrow:before {color: black;}#sk-container-id-2 div.sk-toggleable__content {max-height: 0;max-width: 0;overflow: hidden;text-align: left;background-color: #f0f8ff;}#sk-container-id-2 div.sk-toggleable__content pre {margin: 0.2em;color: black;border-radius: 0.25em;background-color: #f0f8ff;}#sk-container-id-2 input.sk-toggleable__control:checked~div.sk-toggleable__content {max-height: 200px;max-width: 100%;overflow: auto;}#sk-container-id-2 input.sk-toggleable__control:checked~label.sk-toggleable__label-arrow:before {content: \"▾\";}#sk-container-id-2 div.sk-estimator input.sk-toggleable__control:checked~label.sk-toggleable__label {background-color: #d4ebff;}#sk-container-id-2 div.sk-label input.sk-toggleable__control:checked~label.sk-toggleable__label {background-color: #d4ebff;}#sk-container-id-2 input.sk-hidden--visually {border: 0;clip: rect(1px 1px 1px 1px);clip: rect(1px, 1px, 1px, 1px);height: 1px;margin: -1px;overflow: hidden;padding: 0;position: absolute;width: 1px;}#sk-container-id-2 div.sk-estimator {font-family: monospace;background-color: #f0f8ff;border: 1px dotted black;border-radius: 0.25em;box-sizing: border-box;margin-bottom: 0.5em;}#sk-container-id-2 div.sk-estimator:hover {background-color: #d4ebff;}#sk-container-id-2 div.sk-parallel-item::after {content: \"\";width: 100%;border-bottom: 1px solid gray;flex-grow: 1;}#sk-container-id-2 div.sk-label:hover label.sk-toggleable__label {background-color: #d4ebff;}#sk-container-id-2 div.sk-serial::before {content: \"\";position: absolute;border-left: 1px solid gray;box-sizing: border-box;top: 0;bottom: 0;left: 50%;z-index: 0;}#sk-container-id-2 div.sk-serial {display: flex;flex-direction: column;align-items: center;background-color: white;padding-right: 0.2em;padding-left: 0.2em;position: relative;}#sk-container-id-2 div.sk-item {position: relative;z-index: 1;}#sk-container-id-2 div.sk-parallel {display: flex;align-items: stretch;justify-content: center;background-color: white;position: relative;}#sk-container-id-2 div.sk-item::before, #sk-container-id-2 div.sk-parallel-item::before {content: \"\";position: absolute;border-left: 1px solid gray;box-sizing: border-box;top: 0;bottom: 0;left: 50%;z-index: -1;}#sk-container-id-2 div.sk-parallel-item {display: flex;flex-direction: column;z-index: 1;position: relative;background-color: white;}#sk-container-id-2 div.sk-parallel-item:first-child::after {align-self: flex-end;width: 50%;}#sk-container-id-2 div.sk-parallel-item:last-child::after {align-self: flex-start;width: 50%;}#sk-container-id-2 div.sk-parallel-item:only-child::after {width: 0;}#sk-container-id-2 div.sk-dashed-wrapped {border: 1px dashed gray;margin: 0 0.4em 0.5em 0.4em;box-sizing: border-box;padding-bottom: 0.4em;background-color: white;}#sk-container-id-2 div.sk-label label {font-family: monospace;font-weight: bold;display: inline-block;line-height: 1.2em;}#sk-container-id-2 div.sk-label-container {text-align: center;}#sk-container-id-2 div.sk-container {/* jupyter's `normalize.less` sets `[hidden] { display: none; }` but bootstrap.min.css set `[hidden] { display: none !important; }` so we also need the `!important` here to be able to override the default hidden behavior on the sphinx rendered scikit-learn.org. See: https://github.com/scikit-learn/scikit-learn/issues/21755 */display: inline-block !important;position: relative;}#sk-container-id-2 div.sk-text-repr-fallback {display: none;}</style><div id=\"sk-container-id-2\" class=\"sk-top-container\"><div class=\"sk-text-repr-fallback\"><pre>GridSearchCV(estimator=DecisionTreeRegressor(),\n",
       "             param_grid={&#x27;criterion&#x27;: [&#x27;squared_error&#x27;, &#x27;absolute error&#x27;],\n",
       "                         &#x27;max_depth&#x27;: array([2, 3, 4, 5, 6, 7, 8, 9]),\n",
       "                         &#x27;min_samples_leaf&#x27;: (1, 2),\n",
       "                         &#x27;min_samples_split&#x27;: array([2, 3, 4]),\n",
       "                         &#x27;random_state&#x27;: array([39, 40, 41, 42, 43, 44])})</pre><b>In a Jupyter environment, please rerun this cell to show the HTML representation or trust the notebook. <br />On GitHub, the HTML representation is unable to render, please try loading this page with nbviewer.org.</b></div><div class=\"sk-container\" hidden><div class=\"sk-item sk-dashed-wrapped\"><div class=\"sk-label-container\"><div class=\"sk-label sk-toggleable\"><input class=\"sk-toggleable__control sk-hidden--visually\" id=\"sk-estimator-id-2\" type=\"checkbox\" ><label for=\"sk-estimator-id-2\" class=\"sk-toggleable__label sk-toggleable__label-arrow\">GridSearchCV</label><div class=\"sk-toggleable__content\"><pre>GridSearchCV(estimator=DecisionTreeRegressor(),\n",
       "             param_grid={&#x27;criterion&#x27;: [&#x27;squared_error&#x27;, &#x27;absolute error&#x27;],\n",
       "                         &#x27;max_depth&#x27;: array([2, 3, 4, 5, 6, 7, 8, 9]),\n",
       "                         &#x27;min_samples_leaf&#x27;: (1, 2),\n",
       "                         &#x27;min_samples_split&#x27;: array([2, 3, 4]),\n",
       "                         &#x27;random_state&#x27;: array([39, 40, 41, 42, 43, 44])})</pre></div></div></div><div class=\"sk-parallel\"><div class=\"sk-parallel-item\"><div class=\"sk-item\"><div class=\"sk-label-container\"><div class=\"sk-label sk-toggleable\"><input class=\"sk-toggleable__control sk-hidden--visually\" id=\"sk-estimator-id-3\" type=\"checkbox\" ><label for=\"sk-estimator-id-3\" class=\"sk-toggleable__label sk-toggleable__label-arrow\">estimator: DecisionTreeRegressor</label><div class=\"sk-toggleable__content\"><pre>DecisionTreeRegressor()</pre></div></div></div><div class=\"sk-serial\"><div class=\"sk-item\"><div class=\"sk-estimator sk-toggleable\"><input class=\"sk-toggleable__control sk-hidden--visually\" id=\"sk-estimator-id-4\" type=\"checkbox\" ><label for=\"sk-estimator-id-4\" class=\"sk-toggleable__label sk-toggleable__label-arrow\">DecisionTreeRegressor</label><div class=\"sk-toggleable__content\"><pre>DecisionTreeRegressor()</pre></div></div></div></div></div></div></div></div></div></div>"
      ],
      "text/plain": [
       "GridSearchCV(estimator=DecisionTreeRegressor(),\n",
       "             param_grid={'criterion': ['squared_error', 'absolute error'],\n",
       "                         'max_depth': array([2, 3, 4, 5, 6, 7, 8, 9]),\n",
       "                         'min_samples_leaf': (1, 2),\n",
       "                         'min_samples_split': array([2, 3, 4]),\n",
       "                         'random_state': array([39, 40, 41, 42, 43, 44])})"
      ]
     },
     "execution_count": 57,
     "metadata": {},
     "output_type": "execute_result"
    }
   ],
   "source": [
    "gscv.fit(x_train,y_train)"
   ]
  },
  {
   "cell_type": "code",
   "execution_count": 58,
   "id": "84968ebe",
   "metadata": {},
   "outputs": [
    {
     "data": {
      "text/html": [
       "<style>#sk-container-id-3 {color: black;background-color: white;}#sk-container-id-3 pre{padding: 0;}#sk-container-id-3 div.sk-toggleable {background-color: white;}#sk-container-id-3 label.sk-toggleable__label {cursor: pointer;display: block;width: 100%;margin-bottom: 0;padding: 0.3em;box-sizing: border-box;text-align: center;}#sk-container-id-3 label.sk-toggleable__label-arrow:before {content: \"▸\";float: left;margin-right: 0.25em;color: #696969;}#sk-container-id-3 label.sk-toggleable__label-arrow:hover:before {color: black;}#sk-container-id-3 div.sk-estimator:hover label.sk-toggleable__label-arrow:before {color: black;}#sk-container-id-3 div.sk-toggleable__content {max-height: 0;max-width: 0;overflow: hidden;text-align: left;background-color: #f0f8ff;}#sk-container-id-3 div.sk-toggleable__content pre {margin: 0.2em;color: black;border-radius: 0.25em;background-color: #f0f8ff;}#sk-container-id-3 input.sk-toggleable__control:checked~div.sk-toggleable__content {max-height: 200px;max-width: 100%;overflow: auto;}#sk-container-id-3 input.sk-toggleable__control:checked~label.sk-toggleable__label-arrow:before {content: \"▾\";}#sk-container-id-3 div.sk-estimator input.sk-toggleable__control:checked~label.sk-toggleable__label {background-color: #d4ebff;}#sk-container-id-3 div.sk-label input.sk-toggleable__control:checked~label.sk-toggleable__label {background-color: #d4ebff;}#sk-container-id-3 input.sk-hidden--visually {border: 0;clip: rect(1px 1px 1px 1px);clip: rect(1px, 1px, 1px, 1px);height: 1px;margin: -1px;overflow: hidden;padding: 0;position: absolute;width: 1px;}#sk-container-id-3 div.sk-estimator {font-family: monospace;background-color: #f0f8ff;border: 1px dotted black;border-radius: 0.25em;box-sizing: border-box;margin-bottom: 0.5em;}#sk-container-id-3 div.sk-estimator:hover {background-color: #d4ebff;}#sk-container-id-3 div.sk-parallel-item::after {content: \"\";width: 100%;border-bottom: 1px solid gray;flex-grow: 1;}#sk-container-id-3 div.sk-label:hover label.sk-toggleable__label {background-color: #d4ebff;}#sk-container-id-3 div.sk-serial::before {content: \"\";position: absolute;border-left: 1px solid gray;box-sizing: border-box;top: 0;bottom: 0;left: 50%;z-index: 0;}#sk-container-id-3 div.sk-serial {display: flex;flex-direction: column;align-items: center;background-color: white;padding-right: 0.2em;padding-left: 0.2em;position: relative;}#sk-container-id-3 div.sk-item {position: relative;z-index: 1;}#sk-container-id-3 div.sk-parallel {display: flex;align-items: stretch;justify-content: center;background-color: white;position: relative;}#sk-container-id-3 div.sk-item::before, #sk-container-id-3 div.sk-parallel-item::before {content: \"\";position: absolute;border-left: 1px solid gray;box-sizing: border-box;top: 0;bottom: 0;left: 50%;z-index: -1;}#sk-container-id-3 div.sk-parallel-item {display: flex;flex-direction: column;z-index: 1;position: relative;background-color: white;}#sk-container-id-3 div.sk-parallel-item:first-child::after {align-self: flex-end;width: 50%;}#sk-container-id-3 div.sk-parallel-item:last-child::after {align-self: flex-start;width: 50%;}#sk-container-id-3 div.sk-parallel-item:only-child::after {width: 0;}#sk-container-id-3 div.sk-dashed-wrapped {border: 1px dashed gray;margin: 0 0.4em 0.5em 0.4em;box-sizing: border-box;padding-bottom: 0.4em;background-color: white;}#sk-container-id-3 div.sk-label label {font-family: monospace;font-weight: bold;display: inline-block;line-height: 1.2em;}#sk-container-id-3 div.sk-label-container {text-align: center;}#sk-container-id-3 div.sk-container {/* jupyter's `normalize.less` sets `[hidden] { display: none; }` but bootstrap.min.css set `[hidden] { display: none !important; }` so we also need the `!important` here to be able to override the default hidden behavior on the sphinx rendered scikit-learn.org. See: https://github.com/scikit-learn/scikit-learn/issues/21755 */display: inline-block !important;position: relative;}#sk-container-id-3 div.sk-text-repr-fallback {display: none;}</style><div id=\"sk-container-id-3\" class=\"sk-top-container\"><div class=\"sk-text-repr-fallback\"><pre>DecisionTreeRegressor(max_depth=8, min_samples_leaf=2, random_state=40)</pre><b>In a Jupyter environment, please rerun this cell to show the HTML representation or trust the notebook. <br />On GitHub, the HTML representation is unable to render, please try loading this page with nbviewer.org.</b></div><div class=\"sk-container\" hidden><div class=\"sk-item\"><div class=\"sk-estimator sk-toggleable\"><input class=\"sk-toggleable__control sk-hidden--visually\" id=\"sk-estimator-id-5\" type=\"checkbox\" checked><label for=\"sk-estimator-id-5\" class=\"sk-toggleable__label sk-toggleable__label-arrow\">DecisionTreeRegressor</label><div class=\"sk-toggleable__content\"><pre>DecisionTreeRegressor(max_depth=8, min_samples_leaf=2, random_state=40)</pre></div></div></div></div></div>"
      ],
      "text/plain": [
       "DecisionTreeRegressor(max_depth=8, min_samples_leaf=2, random_state=40)"
      ]
     },
     "execution_count": 58,
     "metadata": {},
     "output_type": "execute_result"
    }
   ],
   "source": [
    "gscv.best_estimator_"
   ]
  },
  {
   "cell_type": "markdown",
   "id": "8e5301b3",
   "metadata": {},
   "source": [
    "## model training based on best estimators"
   ]
  },
  {
   "cell_type": "code",
   "execution_count": 59,
   "id": "6c3ba7ef",
   "metadata": {},
   "outputs": [
    {
     "data": {
      "text/html": [
       "<style>#sk-container-id-4 {color: black;background-color: white;}#sk-container-id-4 pre{padding: 0;}#sk-container-id-4 div.sk-toggleable {background-color: white;}#sk-container-id-4 label.sk-toggleable__label {cursor: pointer;display: block;width: 100%;margin-bottom: 0;padding: 0.3em;box-sizing: border-box;text-align: center;}#sk-container-id-4 label.sk-toggleable__label-arrow:before {content: \"▸\";float: left;margin-right: 0.25em;color: #696969;}#sk-container-id-4 label.sk-toggleable__label-arrow:hover:before {color: black;}#sk-container-id-4 div.sk-estimator:hover label.sk-toggleable__label-arrow:before {color: black;}#sk-container-id-4 div.sk-toggleable__content {max-height: 0;max-width: 0;overflow: hidden;text-align: left;background-color: #f0f8ff;}#sk-container-id-4 div.sk-toggleable__content pre {margin: 0.2em;color: black;border-radius: 0.25em;background-color: #f0f8ff;}#sk-container-id-4 input.sk-toggleable__control:checked~div.sk-toggleable__content {max-height: 200px;max-width: 100%;overflow: auto;}#sk-container-id-4 input.sk-toggleable__control:checked~label.sk-toggleable__label-arrow:before {content: \"▾\";}#sk-container-id-4 div.sk-estimator input.sk-toggleable__control:checked~label.sk-toggleable__label {background-color: #d4ebff;}#sk-container-id-4 div.sk-label input.sk-toggleable__control:checked~label.sk-toggleable__label {background-color: #d4ebff;}#sk-container-id-4 input.sk-hidden--visually {border: 0;clip: rect(1px 1px 1px 1px);clip: rect(1px, 1px, 1px, 1px);height: 1px;margin: -1px;overflow: hidden;padding: 0;position: absolute;width: 1px;}#sk-container-id-4 div.sk-estimator {font-family: monospace;background-color: #f0f8ff;border: 1px dotted black;border-radius: 0.25em;box-sizing: border-box;margin-bottom: 0.5em;}#sk-container-id-4 div.sk-estimator:hover {background-color: #d4ebff;}#sk-container-id-4 div.sk-parallel-item::after {content: \"\";width: 100%;border-bottom: 1px solid gray;flex-grow: 1;}#sk-container-id-4 div.sk-label:hover label.sk-toggleable__label {background-color: #d4ebff;}#sk-container-id-4 div.sk-serial::before {content: \"\";position: absolute;border-left: 1px solid gray;box-sizing: border-box;top: 0;bottom: 0;left: 50%;z-index: 0;}#sk-container-id-4 div.sk-serial {display: flex;flex-direction: column;align-items: center;background-color: white;padding-right: 0.2em;padding-left: 0.2em;position: relative;}#sk-container-id-4 div.sk-item {position: relative;z-index: 1;}#sk-container-id-4 div.sk-parallel {display: flex;align-items: stretch;justify-content: center;background-color: white;position: relative;}#sk-container-id-4 div.sk-item::before, #sk-container-id-4 div.sk-parallel-item::before {content: \"\";position: absolute;border-left: 1px solid gray;box-sizing: border-box;top: 0;bottom: 0;left: 50%;z-index: -1;}#sk-container-id-4 div.sk-parallel-item {display: flex;flex-direction: column;z-index: 1;position: relative;background-color: white;}#sk-container-id-4 div.sk-parallel-item:first-child::after {align-self: flex-end;width: 50%;}#sk-container-id-4 div.sk-parallel-item:last-child::after {align-self: flex-start;width: 50%;}#sk-container-id-4 div.sk-parallel-item:only-child::after {width: 0;}#sk-container-id-4 div.sk-dashed-wrapped {border: 1px dashed gray;margin: 0 0.4em 0.5em 0.4em;box-sizing: border-box;padding-bottom: 0.4em;background-color: white;}#sk-container-id-4 div.sk-label label {font-family: monospace;font-weight: bold;display: inline-block;line-height: 1.2em;}#sk-container-id-4 div.sk-label-container {text-align: center;}#sk-container-id-4 div.sk-container {/* jupyter's `normalize.less` sets `[hidden] { display: none; }` but bootstrap.min.css set `[hidden] { display: none !important; }` so we also need the `!important` here to be able to override the default hidden behavior on the sphinx rendered scikit-learn.org. See: https://github.com/scikit-learn/scikit-learn/issues/21755 */display: inline-block !important;position: relative;}#sk-container-id-4 div.sk-text-repr-fallback {display: none;}</style><div id=\"sk-container-id-4\" class=\"sk-top-container\"><div class=\"sk-text-repr-fallback\"><pre>DecisionTreeRegressor(max_depth=8, min_samples_leaf=2, random_state=40)</pre><b>In a Jupyter environment, please rerun this cell to show the HTML representation or trust the notebook. <br />On GitHub, the HTML representation is unable to render, please try loading this page with nbviewer.org.</b></div><div class=\"sk-container\" hidden><div class=\"sk-item\"><div class=\"sk-estimator sk-toggleable\"><input class=\"sk-toggleable__control sk-hidden--visually\" id=\"sk-estimator-id-6\" type=\"checkbox\" checked><label for=\"sk-estimator-id-6\" class=\"sk-toggleable__label sk-toggleable__label-arrow\">DecisionTreeRegressor</label><div class=\"sk-toggleable__content\"><pre>DecisionTreeRegressor(max_depth=8, min_samples_leaf=2, random_state=40)</pre></div></div></div></div></div>"
      ],
      "text/plain": [
       "DecisionTreeRegressor(max_depth=8, min_samples_leaf=2, random_state=40)"
      ]
     },
     "execution_count": 59,
     "metadata": {},
     "output_type": "execute_result"
    }
   ],
   "source": [
    "DT = DecisionTreeRegressor(max_depth=8, min_samples_leaf=2,\n",
    "                      random_state=40)\n",
    "DT"
   ]
  },
  {
   "cell_type": "code",
   "execution_count": 60,
   "id": "27be8b88",
   "metadata": {},
   "outputs": [
    {
     "data": {
      "text/html": [
       "<style>#sk-container-id-5 {color: black;background-color: white;}#sk-container-id-5 pre{padding: 0;}#sk-container-id-5 div.sk-toggleable {background-color: white;}#sk-container-id-5 label.sk-toggleable__label {cursor: pointer;display: block;width: 100%;margin-bottom: 0;padding: 0.3em;box-sizing: border-box;text-align: center;}#sk-container-id-5 label.sk-toggleable__label-arrow:before {content: \"▸\";float: left;margin-right: 0.25em;color: #696969;}#sk-container-id-5 label.sk-toggleable__label-arrow:hover:before {color: black;}#sk-container-id-5 div.sk-estimator:hover label.sk-toggleable__label-arrow:before {color: black;}#sk-container-id-5 div.sk-toggleable__content {max-height: 0;max-width: 0;overflow: hidden;text-align: left;background-color: #f0f8ff;}#sk-container-id-5 div.sk-toggleable__content pre {margin: 0.2em;color: black;border-radius: 0.25em;background-color: #f0f8ff;}#sk-container-id-5 input.sk-toggleable__control:checked~div.sk-toggleable__content {max-height: 200px;max-width: 100%;overflow: auto;}#sk-container-id-5 input.sk-toggleable__control:checked~label.sk-toggleable__label-arrow:before {content: \"▾\";}#sk-container-id-5 div.sk-estimator input.sk-toggleable__control:checked~label.sk-toggleable__label {background-color: #d4ebff;}#sk-container-id-5 div.sk-label input.sk-toggleable__control:checked~label.sk-toggleable__label {background-color: #d4ebff;}#sk-container-id-5 input.sk-hidden--visually {border: 0;clip: rect(1px 1px 1px 1px);clip: rect(1px, 1px, 1px, 1px);height: 1px;margin: -1px;overflow: hidden;padding: 0;position: absolute;width: 1px;}#sk-container-id-5 div.sk-estimator {font-family: monospace;background-color: #f0f8ff;border: 1px dotted black;border-radius: 0.25em;box-sizing: border-box;margin-bottom: 0.5em;}#sk-container-id-5 div.sk-estimator:hover {background-color: #d4ebff;}#sk-container-id-5 div.sk-parallel-item::after {content: \"\";width: 100%;border-bottom: 1px solid gray;flex-grow: 1;}#sk-container-id-5 div.sk-label:hover label.sk-toggleable__label {background-color: #d4ebff;}#sk-container-id-5 div.sk-serial::before {content: \"\";position: absolute;border-left: 1px solid gray;box-sizing: border-box;top: 0;bottom: 0;left: 50%;z-index: 0;}#sk-container-id-5 div.sk-serial {display: flex;flex-direction: column;align-items: center;background-color: white;padding-right: 0.2em;padding-left: 0.2em;position: relative;}#sk-container-id-5 div.sk-item {position: relative;z-index: 1;}#sk-container-id-5 div.sk-parallel {display: flex;align-items: stretch;justify-content: center;background-color: white;position: relative;}#sk-container-id-5 div.sk-item::before, #sk-container-id-5 div.sk-parallel-item::before {content: \"\";position: absolute;border-left: 1px solid gray;box-sizing: border-box;top: 0;bottom: 0;left: 50%;z-index: -1;}#sk-container-id-5 div.sk-parallel-item {display: flex;flex-direction: column;z-index: 1;position: relative;background-color: white;}#sk-container-id-5 div.sk-parallel-item:first-child::after {align-self: flex-end;width: 50%;}#sk-container-id-5 div.sk-parallel-item:last-child::after {align-self: flex-start;width: 50%;}#sk-container-id-5 div.sk-parallel-item:only-child::after {width: 0;}#sk-container-id-5 div.sk-dashed-wrapped {border: 1px dashed gray;margin: 0 0.4em 0.5em 0.4em;box-sizing: border-box;padding-bottom: 0.4em;background-color: white;}#sk-container-id-5 div.sk-label label {font-family: monospace;font-weight: bold;display: inline-block;line-height: 1.2em;}#sk-container-id-5 div.sk-label-container {text-align: center;}#sk-container-id-5 div.sk-container {/* jupyter's `normalize.less` sets `[hidden] { display: none; }` but bootstrap.min.css set `[hidden] { display: none !important; }` so we also need the `!important` here to be able to override the default hidden behavior on the sphinx rendered scikit-learn.org. See: https://github.com/scikit-learn/scikit-learn/issues/21755 */display: inline-block !important;position: relative;}#sk-container-id-5 div.sk-text-repr-fallback {display: none;}</style><div id=\"sk-container-id-5\" class=\"sk-top-container\"><div class=\"sk-text-repr-fallback\"><pre>DecisionTreeRegressor(max_depth=8, min_samples_leaf=2, random_state=40)</pre><b>In a Jupyter environment, please rerun this cell to show the HTML representation or trust the notebook. <br />On GitHub, the HTML representation is unable to render, please try loading this page with nbviewer.org.</b></div><div class=\"sk-container\" hidden><div class=\"sk-item\"><div class=\"sk-estimator sk-toggleable\"><input class=\"sk-toggleable__control sk-hidden--visually\" id=\"sk-estimator-id-7\" type=\"checkbox\" checked><label for=\"sk-estimator-id-7\" class=\"sk-toggleable__label sk-toggleable__label-arrow\">DecisionTreeRegressor</label><div class=\"sk-toggleable__content\"><pre>DecisionTreeRegressor(max_depth=8, min_samples_leaf=2, random_state=40)</pre></div></div></div></div></div>"
      ],
      "text/plain": [
       "DecisionTreeRegressor(max_depth=8, min_samples_leaf=2, random_state=40)"
      ]
     },
     "execution_count": 60,
     "metadata": {},
     "output_type": "execute_result"
    }
   ],
   "source": [
    "DT.fit(x_train,y_train)"
   ]
  },
  {
   "cell_type": "markdown",
   "id": "12f021ef",
   "metadata": {},
   "source": [
    "## Model Evaluation after hyperpara tuning"
   ]
  },
  {
   "cell_type": "code",
   "execution_count": 61,
   "id": "d022d2ec",
   "metadata": {},
   "outputs": [
    {
     "name": "stdout",
     "output_type": "stream",
     "text": [
      "***********Traning********\n",
      "mse=20811530693863.223\n",
      "mae=1138048.6504981427\n",
      "R2_score=0.999070821452228\n",
      "\n",
      "***********Testing********\n",
      "\n",
      "mse=17907603185975.31\n",
      "mae=1723375.1752279638\n",
      "R2_score=0.9839614576559694\n"
     ]
    }
   ],
   "source": [
    "# train\n",
    "print(\"***********Traning********\")\n",
    "y_pred_train  = DT.predict(x_train)\n",
    "mse   = mean_squared_error(y_train,y_pred_train)\n",
    "mae  = mean_absolute_error(y_train,y_pred_train)\n",
    "R2_score = r2_score(y_train,y_pred_train)\n",
    "print(f\"{mse=}\\n{mae=}\\n{R2_score=}\")\n",
    "\n",
    "print()\n",
    "print(\"***********Testing********\")\n",
    "print()\n",
    "\n",
    "y_pred_test  = DT.predict(x_test)\n",
    "mse   = mean_squared_error(y_test,y_pred_test)\n",
    "mae  = mean_absolute_error(y_test,y_pred_test)\n",
    "R2_score = r2_score(y_test,y_pred_test)\n",
    "print(f\"{mse=}\\n{mae=}\\n{R2_score=}\")"
   ]
  },
  {
   "cell_type": "markdown",
   "id": "48184fb3",
   "metadata": {},
   "source": [
    "## Pruning"
   ]
  },
  {
   "cell_type": "code",
   "execution_count": 62,
   "id": "e17ef2e4",
   "metadata": {},
   "outputs": [],
   "source": [
    "ccp_dict=DT.cost_complexity_pruning_path(x_train,y_train)"
   ]
  },
  {
   "cell_type": "code",
   "execution_count": 63,
   "id": "d53ea479",
   "metadata": {},
   "outputs": [
    {
     "data": {
      "text/plain": [
       "array([0.00000000e+00, 8.68200712e+08, 1.12104138e+09, 1.49608555e+09,\n",
       "       1.66803520e+09, 1.75547951e+09, 2.25847574e+09, 3.21078772e+09,\n",
       "       3.60034963e+09, 3.72896930e+09, 5.08440031e+09, 5.10886200e+09,\n",
       "       5.22409391e+09, 6.39911932e+09, 1.22666622e+10, 1.26329802e+10,\n",
       "       1.27749782e+10, 1.74151879e+10, 1.89565633e+10, 1.98161410e+10,\n",
       "       2.20918983e+10, 2.62569046e+10, 2.98886339e+10, 4.34799235e+10,\n",
       "       5.51131466e+10, 7.29013696e+10, 1.19669134e+11, 1.44505427e+11,\n",
       "       1.76126541e+11, 1.97760973e+11, 2.23473088e+11, 2.25893568e+11,\n",
       "       2.26991934e+11, 2.69279010e+11, 8.56217886e+11, 1.12127111e+12,\n",
       "       2.22201072e+12, 3.43627597e+12, 7.24447109e+12, 8.88569750e+12,\n",
       "       9.85322481e+12, 2.02228077e+13, 4.76213448e+13, 5.06346096e+13,\n",
       "       1.56409241e+14, 2.30990164e+14, 1.55870628e+15, 2.02767896e+16])"
      ]
     },
     "execution_count": 63,
     "metadata": {},
     "output_type": "execute_result"
    }
   ],
   "source": [
    "ccp_list=ccp_dict['ccp_alphas']\n",
    "ccp_list"
   ]
  },
  {
   "cell_type": "code",
   "execution_count": 64,
   "id": "d543f227",
   "metadata": {},
   "outputs": [],
   "source": [
    "train_accuracy_list=[]\n",
    "test_accuracy_list=[]\n",
    "\n",
    "for i in ccp_list:\n",
    "    dt=DecisionTreeRegressor(random_state=43,ccp_alpha=i)\n",
    "    dt.fit(x_train,y_train)\n",
    "    train_accuracy_list.append(dt.score(x_train,y_train))\n",
    "    test_accuracy_list.append(dt.score(x_test,y_test))"
   ]
  },
  {
   "cell_type": "code",
   "execution_count": 65,
   "id": "5deee692",
   "metadata": {},
   "outputs": [
    {
     "data": {
      "text/plain": [
       "(array([30], dtype=int64),)"
      ]
     },
     "execution_count": 65,
     "metadata": {},
     "output_type": "execute_result"
    }
   ],
   "source": [
    "np.where(test_accuracy_list==np.max(test_accuracy_list))"
   ]
  },
  {
   "cell_type": "code",
   "execution_count": 66,
   "id": "45f510d8",
   "metadata": {},
   "outputs": [
    {
     "data": {
      "text/plain": [
       "(0.9999279040529918, 0.9736173889370778, 223473087575.10638)"
      ]
     },
     "execution_count": 66,
     "metadata": {},
     "output_type": "execute_result"
    }
   ],
   "source": [
    "train_accuracy_list[30],test_accuracy_list[30],ccp_list[30]"
   ]
  },
  {
   "cell_type": "code",
   "execution_count": 67,
   "id": "56376634",
   "metadata": {},
   "outputs": [
    {
     "data": {
      "text/plain": [
       "<matplotlib.legend.Legend at 0x21e2a898fa0>"
      ]
     },
     "execution_count": 67,
     "metadata": {},
     "output_type": "execute_result"
    },
    {
     "data": {
      "image/png": "[encoded data removed]",
      "text/plain": [
       "<Figure size 432x288 with 1 Axes>"
      ]
     },
     "metadata": {
      "needs_background": "light"
     },
     "output_type": "display_data"
    }
   ],
   "source": [
    "fig,ax = plt.subplots()\n",
    "ax.plot(ccp_list,train_accuracy_list,label = \"Training data Accuracy\")\n",
    "ax.plot(ccp_list,test_accuracy_list,label = \"Test data Accuracy\")\n",
    "ax.legend()"
   ]
  },
  {
   "cell_type": "code",
   "execution_count": 73,
   "id": "20427695",
   "metadata": {},
   "outputs": [
    {
     "name": "stdout",
     "output_type": "stream",
     "text": [
      "train_accuracy 0.9999279040529918\n",
      "test_accuracy 0.9736173889370778\n"
     ]
    }
   ],
   "source": [
    "DT_Prunned=DecisionTreeRegressor(random_state=43,ccp_alpha=223473087575.10638)\n",
    "DT_Prunned.fit(x_train,y_train)\n",
    "print(\"train_accuracy\",DT_Prunned.score(x_train,y_train))\n",
    "print(\"test_accuracy\",DT_Prunned.score(x_test,y_test))"
   ]
  },
  {
   "cell_type": "markdown",
   "id": "f42692b8",
   "metadata": {},
   "source": [
    "## LR - Model Training and Evaluation"
   ]
  },
  {
   "cell_type": "code",
   "execution_count": 68,
   "id": "fa48fa80",
   "metadata": {},
   "outputs": [
    {
     "data": {
      "text/html": [
       "<style>#sk-container-id-6 {color: black;background-color: white;}#sk-container-id-6 pre{padding: 0;}#sk-container-id-6 div.sk-toggleable {background-color: white;}#sk-container-id-6 label.sk-toggleable__label {cursor: pointer;display: block;width: 100%;margin-bottom: 0;padding: 0.3em;box-sizing: border-box;text-align: center;}#sk-container-id-6 label.sk-toggleable__label-arrow:before {content: \"▸\";float: left;margin-right: 0.25em;color: #696969;}#sk-container-id-6 label.sk-toggleable__label-arrow:hover:before {color: black;}#sk-container-id-6 div.sk-estimator:hover label.sk-toggleable__label-arrow:before {color: black;}#sk-container-id-6 div.sk-toggleable__content {max-height: 0;max-width: 0;overflow: hidden;text-align: left;background-color: #f0f8ff;}#sk-container-id-6 div.sk-toggleable__content pre {margin: 0.2em;color: black;border-radius: 0.25em;background-color: #f0f8ff;}#sk-container-id-6 input.sk-toggleable__control:checked~div.sk-toggleable__content {max-height: 200px;max-width: 100%;overflow: auto;}#sk-container-id-6 input.sk-toggleable__control:checked~label.sk-toggleable__label-arrow:before {content: \"▾\";}#sk-container-id-6 div.sk-estimator input.sk-toggleable__control:checked~label.sk-toggleable__label {background-color: #d4ebff;}#sk-container-id-6 div.sk-label input.sk-toggleable__control:checked~label.sk-toggleable__label {background-color: #d4ebff;}#sk-container-id-6 input.sk-hidden--visually {border: 0;clip: rect(1px 1px 1px 1px);clip: rect(1px, 1px, 1px, 1px);height: 1px;margin: -1px;overflow: hidden;padding: 0;position: absolute;width: 1px;}#sk-container-id-6 div.sk-estimator {font-family: monospace;background-color: #f0f8ff;border: 1px dotted black;border-radius: 0.25em;box-sizing: border-box;margin-bottom: 0.5em;}#sk-container-id-6 div.sk-estimator:hover {background-color: #d4ebff;}#sk-container-id-6 div.sk-parallel-item::after {content: \"\";width: 100%;border-bottom: 1px solid gray;flex-grow: 1;}#sk-container-id-6 div.sk-label:hover label.sk-toggleable__label {background-color: #d4ebff;}#sk-container-id-6 div.sk-serial::before {content: \"\";position: absolute;border-left: 1px solid gray;box-sizing: border-box;top: 0;bottom: 0;left: 50%;z-index: 0;}#sk-container-id-6 div.sk-serial {display: flex;flex-direction: column;align-items: center;background-color: white;padding-right: 0.2em;padding-left: 0.2em;position: relative;}#sk-container-id-6 div.sk-item {position: relative;z-index: 1;}#sk-container-id-6 div.sk-parallel {display: flex;align-items: stretch;justify-content: center;background-color: white;position: relative;}#sk-container-id-6 div.sk-item::before, #sk-container-id-6 div.sk-parallel-item::before {content: \"\";position: absolute;border-left: 1px solid gray;box-sizing: border-box;top: 0;bottom: 0;left: 50%;z-index: -1;}#sk-container-id-6 div.sk-parallel-item {display: flex;flex-direction: column;z-index: 1;position: relative;background-color: white;}#sk-container-id-6 div.sk-parallel-item:first-child::after {align-self: flex-end;width: 50%;}#sk-container-id-6 div.sk-parallel-item:last-child::after {align-self: flex-start;width: 50%;}#sk-container-id-6 div.sk-parallel-item:only-child::after {width: 0;}#sk-container-id-6 div.sk-dashed-wrapped {border: 1px dashed gray;margin: 0 0.4em 0.5em 0.4em;box-sizing: border-box;padding-bottom: 0.4em;background-color: white;}#sk-container-id-6 div.sk-label label {font-family: monospace;font-weight: bold;display: inline-block;line-height: 1.2em;}#sk-container-id-6 div.sk-label-container {text-align: center;}#sk-container-id-6 div.sk-container {/* jupyter's `normalize.less` sets `[hidden] { display: none; }` but bootstrap.min.css set `[hidden] { display: none !important; }` so we also need the `!important` here to be able to override the default hidden behavior on the sphinx rendered scikit-learn.org. See: https://github.com/scikit-learn/scikit-learn/issues/21755 */display: inline-block !important;position: relative;}#sk-container-id-6 div.sk-text-repr-fallback {display: none;}</style><div id=\"sk-container-id-6\" class=\"sk-top-container\"><div class=\"sk-text-repr-fallback\"><pre>LinearRegression()</pre><b>In a Jupyter environment, please rerun this cell to show the HTML representation or trust the notebook. <br />On GitHub, the HTML representation is unable to render, please try loading this page with nbviewer.org.</b></div><div class=\"sk-container\" hidden><div class=\"sk-item\"><div class=\"sk-estimator sk-toggleable\"><input class=\"sk-toggleable__control sk-hidden--visually\" id=\"sk-estimator-id-8\" type=\"checkbox\" checked><label for=\"sk-estimator-id-8\" class=\"sk-toggleable__label sk-toggleable__label-arrow\">LinearRegression</label><div class=\"sk-toggleable__content\"><pre>LinearRegression()</pre></div></div></div></div></div>"
      ],
      "text/plain": [
       "LinearRegression()"
      ]
     },
     "execution_count": 68,
     "metadata": {},
     "output_type": "execute_result"
    }
   ],
   "source": [
    "x_train,x_test,y_train,y_test = train_test_split(x,y,test_size=0.2,random_state=42)\n",
    "lina=LinearRegression()\n",
    "lina.fit(x_train,y_train)"
   ]
  },
  {
   "cell_type": "code",
   "execution_count": 69,
   "id": "77551a0e",
   "metadata": {},
   "outputs": [
    {
     "name": "stdout",
     "output_type": "stream",
     "text": [
      "Accuracy_train=1.0,Accuracy_test=0.9998928980234522\n"
     ]
    }
   ],
   "source": [
    "Accuracy_train = lina.score(x_train,y_train)\n",
    "Accuracy_test = lina.score(x_test,y_test)\n",
    "print(f\"{Accuracy_train=},{Accuracy_test=}\")"
   ]
  },
  {
   "cell_type": "markdown",
   "id": "984299c6",
   "metadata": {},
   "source": [
    "## RF - Model Training and Evaluation"
   ]
  },
  {
   "cell_type": "code",
   "execution_count": 70,
   "id": "235ade20",
   "metadata": {},
   "outputs": [
    {
     "name": "stdout",
     "output_type": "stream",
     "text": [
      "Accuracy_train=0.9343592417244491,Accuracy_test=0.9908437718997406\n"
     ]
    }
   ],
   "source": [
    "rf=RandomForestRegressor().fit(x_train,y_train)\n",
    "Accuracy_train = rf.score(x_train,y_train)\n",
    "Accuracy_test = rf.score(x_test,y_test)\n",
    "print(f\"{Accuracy_train=},{Accuracy_test=}\")"
   ]
  },
  {
   "cell_type": "markdown",
   "id": "26008187",
   "metadata": {},
   "source": [
    "### XGBOOST - TRAINING AND EVALUATION"
   ]
  },
  {
   "cell_type": "code",
   "execution_count": 71,
   "id": "4a4ed87d",
   "metadata": {},
   "outputs": [
    {
     "name": "stdout",
     "output_type": "stream",
     "text": [
      "Accuracy_train=0.9999999861435296,Accuracy_test=0.9920111996450752\n"
     ]
    }
   ],
   "source": [
    "xg=XGBRegressor().fit(x_train,y_train)\n",
    "Accuracy_train = xg.score(x_train,y_train)\n",
    "Accuracy_test = xg.score(x_test,y_test)\n",
    "print(f\"{Accuracy_train=},{Accuracy_test=}\")"
   ]
  },
  {
   "cell_type": "raw",
   "id": "2d854665",
   "metadata": {},
   "source": [
    "List of accuracies\n",
    "\n",
    "Model:Decision Tree Regressor\n",
    "Accuracy                        train                            test                        Remark\n",
    "1. On Raw Data                  1.0                              0.9420102140257999          overfitting\n",
    "2. After hypertuning            0.7490793841735017               0.8326939726258191          less accuracy\n",
    "3. after Pruning                0.99                             0.97                        best\n",
    "\n",
    "Model : Linear Regressor\n",
    "Accuracy                        train                            test                        Remark\n",
    "1. On Raw Data                  1.0                              0.9994381355623058          overfitting\n",
    "\n",
    "Model : Random Forest Regressor\n",
    "Accuracy                        train                            test                        Remark\n",
    "1. On Raw Data                  0.8774193223453735               0.49738227913397004         underfitting\n",
    "2. After hypertuning            to be done.\n",
    "\n",
    "Model : XG Boost\n",
    "Accuracy                        train                            test                        Remark\n",
    "1. On raw data                  0.9999999861435296               0.9920111996450752         Overfitting"
   ]
  },
  {
   "cell_type": "markdown",
   "id": "2c566c08",
   "metadata": {},
   "source": [
    "#### moving forward with decision tree after pruning model"
   ]
  },
  {
   "cell_type": "code",
   "execution_count": 76,
   "id": "aca5e920",
   "metadata": {},
   "outputs": [],
   "source": [
    "with open (\"Model.pkl\",\"wb\") as file:\n",
    "    pickle.dump(DT_Prunned,file)"
   ]
  },
  {
   "cell_type": "code",
   "execution_count": 78,
   "id": "75ade262",
   "metadata": {},
   "outputs": [],
   "source": [
    "project_Data={\"columns\" :list(x_train.columns)}"
   ]
  },
  {
   "cell_type": "code",
   "execution_count": 79,
   "id": "db8e6984",
   "metadata": {},
   "outputs": [],
   "source": [
    "with open(\"project_data.json\",\"w\")as file:\n",
    "    json.dump(project_Data,file)"
   ]
  },
  {
   "cell_type": "code",
   "execution_count": 87,
   "id": "3a3b8af7",
   "metadata": {},
   "outputs": [
    {
     "data": {
      "text/html": [
       "<div>\n",
       "<style scoped>\n",
       "    .dataframe tbody tr th:only-of-type {\n",
       "        vertical-align: middle;\n",
       "    }\n",
       "\n",
       "    .dataframe tbody tr th {\n",
       "        vertical-align: top;\n",
       "    }\n",
       "\n",
       "    .dataframe thead th {\n",
       "        text-align: right;\n",
       "    }\n",
       "</style>\n",
       "<table border=\"1\" class=\"dataframe\">\n",
       "  <thead>\n",
       "    <tr style=\"text-align: right;\">\n",
       "      <th></th>\n",
       "      <th>Yearly change</th>\n",
       "      <th>Net change</th>\n",
       "      <th>Density (P/Km²)</th>\n",
       "      <th>Migrants (net)</th>\n",
       "      <th>Fert. Rate</th>\n",
       "      <th>Med.Age</th>\n",
       "      <th>Urban Pop %</th>\n",
       "      <th>World Share</th>\n",
       "      <th>China</th>\n",
       "      <th>India</th>\n",
       "      <th>...</th>\n",
       "      <th>Wallis &amp; Futuna</th>\n",
       "      <th>Nauru</th>\n",
       "      <th>Saint Barthelemy</th>\n",
       "      <th>Saint Helena</th>\n",
       "      <th>Saint Pierre &amp; Miquelon</th>\n",
       "      <th>Montserrat</th>\n",
       "      <th>Falkland Islands</th>\n",
       "      <th>Niue</th>\n",
       "      <th>Tokelau</th>\n",
       "      <th>Holy See</th>\n",
       "    </tr>\n",
       "  </thead>\n",
       "  <tbody>\n",
       "    <tr>\n",
       "      <th>16</th>\n",
       "      <td>1.09</td>\n",
       "      <td>909452.0</td>\n",
       "      <td>110.0</td>\n",
       "      <td>283922.0</td>\n",
       "      <td>2.1</td>\n",
       "      <td>32.0</td>\n",
       "      <td>76.0</td>\n",
       "      <td>1.08</td>\n",
       "      <td>0.0</td>\n",
       "      <td>0.0</td>\n",
       "      <td>...</td>\n",
       "      <td>0.0</td>\n",
       "      <td>0.0</td>\n",
       "      <td>0.0</td>\n",
       "      <td>0.0</td>\n",
       "      <td>0.0</td>\n",
       "      <td>0.0</td>\n",
       "      <td>0.0</td>\n",
       "      <td>0.0</td>\n",
       "      <td>0.0</td>\n",
       "      <td>0.0</td>\n",
       "    </tr>\n",
       "    <tr>\n",
       "      <th>156</th>\n",
       "      <td>0.17</td>\n",
       "      <td>2100.0</td>\n",
       "      <td>626.0</td>\n",
       "      <td>0.0</td>\n",
       "      <td>1.4</td>\n",
       "      <td>37.0</td>\n",
       "      <td>41.0</td>\n",
       "      <td>0.02</td>\n",
       "      <td>0.0</td>\n",
       "      <td>0.0</td>\n",
       "      <td>...</td>\n",
       "      <td>0.0</td>\n",
       "      <td>0.0</td>\n",
       "      <td>0.0</td>\n",
       "      <td>0.0</td>\n",
       "      <td>0.0</td>\n",
       "      <td>0.0</td>\n",
       "      <td>0.0</td>\n",
       "      <td>0.0</td>\n",
       "      <td>0.0</td>\n",
       "      <td>0.0</td>\n",
       "    </tr>\n",
       "    <tr>\n",
       "      <th>177</th>\n",
       "      <td>1.86</td>\n",
       "      <td>7275.0</td>\n",
       "      <td>17.0</td>\n",
       "      <td>1200.0</td>\n",
       "      <td>2.3</td>\n",
       "      <td>25.0</td>\n",
       "      <td>46.0</td>\n",
       "      <td>0.01</td>\n",
       "      <td>0.0</td>\n",
       "      <td>0.0</td>\n",
       "      <td>...</td>\n",
       "      <td>0.0</td>\n",
       "      <td>0.0</td>\n",
       "      <td>0.0</td>\n",
       "      <td>0.0</td>\n",
       "      <td>0.0</td>\n",
       "      <td>0.0</td>\n",
       "      <td>0.0</td>\n",
       "      <td>0.0</td>\n",
       "      <td>0.0</td>\n",
       "      <td>0.0</td>\n",
       "    </tr>\n",
       "    <tr>\n",
       "      <th>161</th>\n",
       "      <td>0.72</td>\n",
       "      <td>6385.0</td>\n",
       "      <td>358.0</td>\n",
       "      <td>-1256.0</td>\n",
       "      <td>2.3</td>\n",
       "      <td>36.0</td>\n",
       "      <td>100.0</td>\n",
       "      <td>0.01</td>\n",
       "      <td>0.0</td>\n",
       "      <td>0.0</td>\n",
       "      <td>...</td>\n",
       "      <td>0.0</td>\n",
       "      <td>0.0</td>\n",
       "      <td>0.0</td>\n",
       "      <td>0.0</td>\n",
       "      <td>0.0</td>\n",
       "      <td>0.0</td>\n",
       "      <td>0.0</td>\n",
       "      <td>0.0</td>\n",
       "      <td>0.0</td>\n",
       "      <td>0.0</td>\n",
       "    </tr>\n",
       "    <tr>\n",
       "      <th>204</th>\n",
       "      <td>1.19</td>\n",
       "      <td>774.0</td>\n",
       "      <td>274.0</td>\n",
       "      <td>-250.0</td>\n",
       "      <td>0.0</td>\n",
       "      <td>0.0</td>\n",
       "      <td>97.0</td>\n",
       "      <td>0.00</td>\n",
       "      <td>0.0</td>\n",
       "      <td>0.0</td>\n",
       "      <td>...</td>\n",
       "      <td>0.0</td>\n",
       "      <td>0.0</td>\n",
       "      <td>0.0</td>\n",
       "      <td>0.0</td>\n",
       "      <td>0.0</td>\n",
       "      <td>0.0</td>\n",
       "      <td>0.0</td>\n",
       "      <td>0.0</td>\n",
       "      <td>0.0</td>\n",
       "      <td>0.0</td>\n",
       "    </tr>\n",
       "    <tr>\n",
       "      <th>124</th>\n",
       "      <td>1.78</td>\n",
       "      <td>84582.0</td>\n",
       "      <td>8.0</td>\n",
       "      <td>-40000.0</td>\n",
       "      <td>4.8</td>\n",
       "      <td>18.0</td>\n",
       "      <td>43.0</td>\n",
       "      <td>0.06</td>\n",
       "      <td>0.0</td>\n",
       "      <td>0.0</td>\n",
       "      <td>...</td>\n",
       "      <td>0.0</td>\n",
       "      <td>0.0</td>\n",
       "      <td>0.0</td>\n",
       "      <td>0.0</td>\n",
       "      <td>0.0</td>\n",
       "      <td>0.0</td>\n",
       "      <td>0.0</td>\n",
       "      <td>0.0</td>\n",
       "      <td>0.0</td>\n",
       "      <td>0.0</td>\n",
       "    </tr>\n",
       "    <tr>\n",
       "      <th>60</th>\n",
       "      <td>-0.66</td>\n",
       "      <td>-126866.0</td>\n",
       "      <td>84.0</td>\n",
       "      <td>-73999.0</td>\n",
       "      <td>1.6</td>\n",
       "      <td>43.0</td>\n",
       "      <td>55.0</td>\n",
       "      <td>0.25</td>\n",
       "      <td>0.0</td>\n",
       "      <td>0.0</td>\n",
       "      <td>...</td>\n",
       "      <td>0.0</td>\n",
       "      <td>0.0</td>\n",
       "      <td>0.0</td>\n",
       "      <td>0.0</td>\n",
       "      <td>0.0</td>\n",
       "      <td>0.0</td>\n",
       "      <td>0.0</td>\n",
       "      <td>0.0</td>\n",
       "      <td>0.0</td>\n",
       "      <td>0.0</td>\n",
       "    </tr>\n",
       "    <tr>\n",
       "      <th>199</th>\n",
       "      <td>0.62</td>\n",
       "      <td>608.0</td>\n",
       "      <td>214.0</td>\n",
       "      <td>-200.0</td>\n",
       "      <td>2.5</td>\n",
       "      <td>34.0</td>\n",
       "      <td>56.0</td>\n",
       "      <td>0.00</td>\n",
       "      <td>0.0</td>\n",
       "      <td>0.0</td>\n",
       "      <td>...</td>\n",
       "      <td>0.0</td>\n",
       "      <td>0.0</td>\n",
       "      <td>0.0</td>\n",
       "      <td>0.0</td>\n",
       "      <td>0.0</td>\n",
       "      <td>0.0</td>\n",
       "      <td>0.0</td>\n",
       "      <td>0.0</td>\n",
       "      <td>0.0</td>\n",
       "      <td>0.0</td>\n",
       "    </tr>\n",
       "    <tr>\n",
       "      <th>230</th>\n",
       "      <td>0.06</td>\n",
       "      <td>3.0</td>\n",
       "      <td>50.0</td>\n",
       "      <td>-250.0</td>\n",
       "      <td>0.0</td>\n",
       "      <td>0.0</td>\n",
       "      <td>10.0</td>\n",
       "      <td>0.00</td>\n",
       "      <td>0.0</td>\n",
       "      <td>0.0</td>\n",
       "      <td>...</td>\n",
       "      <td>0.0</td>\n",
       "      <td>0.0</td>\n",
       "      <td>0.0</td>\n",
       "      <td>0.0</td>\n",
       "      <td>0.0</td>\n",
       "      <td>0.0</td>\n",
       "      <td>0.0</td>\n",
       "      <td>0.0</td>\n",
       "      <td>0.0</td>\n",
       "      <td>0.0</td>\n",
       "    </tr>\n",
       "    <tr>\n",
       "      <th>82</th>\n",
       "      <td>-0.06</td>\n",
       "      <td>-6867.0</td>\n",
       "      <td>106.0</td>\n",
       "      <td>-14400.0</td>\n",
       "      <td>1.6</td>\n",
       "      <td>42.0</td>\n",
       "      <td>78.0</td>\n",
       "      <td>0.15</td>\n",
       "      <td>0.0</td>\n",
       "      <td>0.0</td>\n",
       "      <td>...</td>\n",
       "      <td>0.0</td>\n",
       "      <td>0.0</td>\n",
       "      <td>0.0</td>\n",
       "      <td>0.0</td>\n",
       "      <td>0.0</td>\n",
       "      <td>0.0</td>\n",
       "      <td>0.0</td>\n",
       "      <td>0.0</td>\n",
       "      <td>0.0</td>\n",
       "      <td>0.0</td>\n",
       "    </tr>\n",
       "  </tbody>\n",
       "</table>\n",
       "<p>10 rows × 243 columns</p>\n",
       "</div>"
      ],
      "text/plain": [
       "     Yearly change  Net change  Density (P/Km²)  Migrants (net)  Fert. Rate  \\\n",
       "16            1.09    909452.0            110.0        283922.0         2.1   \n",
       "156           0.17      2100.0            626.0             0.0         1.4   \n",
       "177           1.86      7275.0             17.0          1200.0         2.3   \n",
       "161           0.72      6385.0            358.0         -1256.0         2.3   \n",
       "204           1.19       774.0            274.0          -250.0         0.0   \n",
       "124           1.78     84582.0              8.0        -40000.0         4.8   \n",
       "60           -0.66   -126866.0             84.0        -73999.0         1.6   \n",
       "199           0.62       608.0            214.0          -200.0         2.5   \n",
       "230           0.06         3.0             50.0          -250.0         0.0   \n",
       "82           -0.06     -6867.0            106.0        -14400.0         1.6   \n",
       "\n",
       "     Med.Age  Urban Pop %  World Share  China  India  ...  Wallis & Futuna  \\\n",
       "16      32.0         76.0         1.08    0.0    0.0  ...              0.0   \n",
       "156     37.0         41.0         0.02    0.0    0.0  ...              0.0   \n",
       "177     25.0         46.0         0.01    0.0    0.0  ...              0.0   \n",
       "161     36.0        100.0         0.01    0.0    0.0  ...              0.0   \n",
       "204      0.0         97.0         0.00    0.0    0.0  ...              0.0   \n",
       "124     18.0         43.0         0.06    0.0    0.0  ...              0.0   \n",
       "60      43.0         55.0         0.25    0.0    0.0  ...              0.0   \n",
       "199     34.0         56.0         0.00    0.0    0.0  ...              0.0   \n",
       "230      0.0         10.0         0.00    0.0    0.0  ...              0.0   \n",
       "82      42.0         78.0         0.15    0.0    0.0  ...              0.0   \n",
       "\n",
       "     Nauru  Saint Barthelemy  Saint Helena  Saint Pierre & Miquelon  \\\n",
       "16     0.0               0.0           0.0                      0.0   \n",
       "156    0.0               0.0           0.0                      0.0   \n",
       "177    0.0               0.0           0.0                      0.0   \n",
       "161    0.0               0.0           0.0                      0.0   \n",
       "204    0.0               0.0           0.0                      0.0   \n",
       "124    0.0               0.0           0.0                      0.0   \n",
       "60     0.0               0.0           0.0                      0.0   \n",
       "199    0.0               0.0           0.0                      0.0   \n",
       "230    0.0               0.0           0.0                      0.0   \n",
       "82     0.0               0.0           0.0                      0.0   \n",
       "\n",
       "     Montserrat  Falkland Islands  Niue  Tokelau  Holy See  \n",
       "16          0.0               0.0   0.0      0.0       0.0  \n",
       "156         0.0               0.0   0.0      0.0       0.0  \n",
       "177         0.0               0.0   0.0      0.0       0.0  \n",
       "161         0.0               0.0   0.0      0.0       0.0  \n",
       "204         0.0               0.0   0.0      0.0       0.0  \n",
       "124         0.0               0.0   0.0      0.0       0.0  \n",
       "60          0.0               0.0   0.0      0.0       0.0  \n",
       "199         0.0               0.0   0.0      0.0       0.0  \n",
       "230         0.0               0.0   0.0      0.0       0.0  \n",
       "82          0.0               0.0   0.0      0.0       0.0  \n",
       "\n",
       "[10 rows x 243 columns]"
      ]
     },
     "execution_count": 87,
     "metadata": {},
     "output_type": "execute_result"
    }
   ],
   "source": [
    "x_test.tail(10)"
   ]
  },
  {
   "cell_type": "code",
   "execution_count": 81,
   "id": "4c0c9dc9",
   "metadata": {},
   "outputs": [
    {
     "data": {
      "text/plain": [
       "82    11326616.0\n",
       "Name: Population (2022), dtype: float64"
      ]
     },
     "execution_count": 81,
     "metadata": {},
     "output_type": "execute_result"
    }
   ],
   "source": [
    "y_test.tail(1)"
   ]
  },
  {
   "cell_type": "code",
   "execution_count": 86,
   "id": "368a8e56",
   "metadata": {},
   "outputs": [
    {
     "data": {
      "text/plain": [
       "['Yearly change',\n",
       " 'Net change',\n",
       " 'Density (P/Km²)',\n",
       " 'Migrants (net)',\n",
       " 'Fert. Rate',\n",
       " 'Med.Age',\n",
       " 'Urban Pop %',\n",
       " 'World Share']"
      ]
     },
     "execution_count": 86,
     "metadata": {},
     "output_type": "execute_result"
    }
   ],
   "source": [
    "list(x_train.columns[:8])"
   ]
  }
 ],
 "metadata": {
  "kernelspec": {
   "display_name": "Python 3 (ipykernel)",
   "language": "python",
   "name": "python3"
  },
  "language_info": {
   "codemirror_mode": {
    "name": "ipython",
    "version": 3
   },
   "file_extension": ".py",
   "mimetype": "text/x-python",
   "name": "python",
   "nbconvert_exporter": "python",
   "pygments_lexer": "ipython3",
   "version": "3.9.12"
  }
 },
 "nbformat": 4,
 "nbformat_minor": 5
}
